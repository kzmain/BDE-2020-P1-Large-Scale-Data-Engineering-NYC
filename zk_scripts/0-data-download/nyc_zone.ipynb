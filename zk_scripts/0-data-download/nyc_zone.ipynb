{
 "cells": [
  {
   "cell_type": "code",
   "execution_count": 2,
   "outputs": [],
   "source": [
    "import urllib\n",
    "from zipfile import ZipFile\n",
    "import os"
   ],
   "metadata": {
    "collapsed": false,
    "pycharm": {
     "name": "#%%\n"
    }
   }
  },
  {
   "cell_type": "code",
   "execution_count": 3,
   "outputs": [],
   "source": [
    "# Set up modes and dirs\n",
    "overwrite  = False\n",
    "databricks = False\n",
    "if not databricks:\n",
    "    from util import folder\n",
    "    data_dir = folder.DATA_DIR\n",
    "else:\n",
    "    data_dir = \"/dbfs/mnt/group01\"\n",
    "\n",
    "dest_dir = os.path.join(data_dir, \"nyc/zone\")\n",
    "dest_zip = os.path.join(dest_dir, \"zones.zip\")\n",
    "dirs = [data_dir, dest_dir]"
   ],
   "metadata": {
    "collapsed": false,
    "pycharm": {
     "name": "#%%\n"
    }
   }
  },
  {
   "cell_type": "code",
   "execution_count": 4,
   "outputs": [],
   "source": [
    "for d in dirs:\n",
    "    if not os.path.exists(d):\n",
    "        os.makedirs(d)"
   ],
   "metadata": {
    "collapsed": false,
    "pycharm": {
     "name": "#%%\n"
    }
   }
  },
  {
   "cell_type": "code",
   "execution_count": 5,
   "outputs": [],
   "source": [
    "def check_file_exist(_path):\n",
    "    if os.path.exists(_path) and not overwrite:\n",
    "            print(\"[SYSTEM]: File exists: {}\".format(_path))\n",
    "            return True\n",
    "    else:\n",
    "        return False"
   ],
   "metadata": {
    "collapsed": false,
    "pycharm": {
     "name": "#%%\n"
    }
   }
  },
  {
   "cell_type": "code",
   "execution_count": 6,
   "outputs": [],
   "source": [
    "def get_taxi_zone():\n",
    "    info_title = lambda  : print(\"____________________________TAXI_ZONE_DOWNLOAD____________________________\")\n",
    "    info_start = lambda _file_name : print(\"[SYSTEM]: Start  {}\".format(_file_name))\n",
    "    info_end   = lambda _file_name : print(\"[SYSTEM]: Finish {}\".format(_file_name))\n",
    "    info_title()\n",
    "    reso = \"https://s3.amazonaws.com/nyc-tlc/misc/taxi_zones.zip\"\n",
    "    if check_file_exist(dest_zip):\n",
    "        return\n",
    "    try:\n",
    "        info_start(dest_zip)\n",
    "        urllib.request.urlretrieve(reso, dest_zip)\n",
    "        zf = ZipFile(dest_zip, 'r')\n",
    "        zf.extractall(dest_dir)\n",
    "        zf.close()\n",
    "        info_end(dest_zip)\n",
    "    except urllib.error.HTTPError:\n",
    "        print(\"Exception : Taxi data zone's data is not downloaded\")"
   ],
   "metadata": {
    "collapsed": false,
    "pycharm": {
     "name": "#%%\n"
    }
   }
  },
  {
   "cell_type": "code",
   "execution_count": 7,
   "outputs": [
    {
     "name": "stdout",
     "output_type": "stream",
     "text": [
      "____________________________TAXI_ZONE_DOWNLOAD____________________________\n",
      "[SYSTEM]: File exists: /Users/kzmain/LSDE/data/nyc/zone/zones.zip\n"
     ]
    }
   ],
   "source": [
    "get_taxi_zone()\n"
   ],
   "metadata": {
    "collapsed": false,
    "pycharm": {
     "name": "#%%\n"
    }
   }
  }
 ],
 "metadata": {
  "kernelspec": {
   "display_name": "Python 3",
   "language": "python",
   "name": "python3"
  },
  "language_info": {
   "codemirror_mode": {
    "name": "ipython",
    "version": 2
   },
   "file_extension": ".py",
   "mimetype": "text/x-python",
   "name": "python",
   "nbconvert_exporter": "python",
   "pygments_lexer": "ipython2",
   "version": "2.7.6"
  }
 },
 "nbformat": 4,
 "nbformat_minor": 0
}