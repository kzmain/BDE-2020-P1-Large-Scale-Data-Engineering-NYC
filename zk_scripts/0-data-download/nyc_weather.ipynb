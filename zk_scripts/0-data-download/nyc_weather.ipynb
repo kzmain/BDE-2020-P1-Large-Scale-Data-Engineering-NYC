{
 "cells": [
  {
   "cell_type": "code",
   "execution_count": 14,
   "outputs": [],
   "source": [],
   "metadata": {
    "collapsed": false,
    "pycharm": {
     "name": "#%%\n"
    }
   }
  },
  {
   "cell_type": "code",
   "execution_count": 15,
   "outputs": [],
   "source": [
    "import json\n",
    "import re\n",
    "import os\n",
    "import requests\n",
    "from bs4 import BeautifulSoup as bs\n",
    "from datetime import datetime\n",
    "from pyspark.sql import SparkSession\n",
    "from pyspark.sql.functions import udf, col, from_unixtime, explode, when, lit\n",
    "from pyspark.sql.types import ShortType, ArrayType, StringType"
   ],
   "metadata": {
    "collapsed": false,
    "pycharm": {
     "name": "#%%\n"
    }
   }
  },
  {
   "cell_type": "code",
   "execution_count": 16,
   "outputs": [],
   "source": [
    "# Set up modes and dirs\n",
    "overwrite = False\n",
    "databricks = False\n",
    "if not databricks:\n",
    "    from util import folder\n",
    "\n",
    "    data_dir = folder.DATA_DIR\n",
    "    spark = SparkSession.builder.getOrCreate()\n",
    "else:\n",
    "    data_dir = \"/dbfs/mnt/group01\"\n",
    "\n",
    "weather_dir = weather_dbfs = os.path.join(data_dir, \"nyc/weather\")\n",
    "html_dir = html_dbfs = os.path.join(weather_dir, \"html\")\n",
    "csv_dir = csv_dbfs = os.path.join(weather_dir, \"csv\")\n",
    "par_dir = par_dbfs = os.path.join(weather_dir, \"parquet\")\n",
    "if databricks:\n",
    "    weather_dbfs = weather_dbfs.replace(\"/dbfs\", \"\")\n",
    "    html_dbfs = html_dbfs.replace(\"/dbfs\", \"\")\n",
    "    csv_dbfs = csv_dbfs.replace(\"/dbfs\", \"\")\n",
    "    par_dbfs = par_dbfs.replace(\"/dbfs\", \"\")\n",
    "\n",
    "dirs = [data_dir, weather_dir, html_dir, csv_dir]"
   ],
   "metadata": {
    "collapsed": false,
    "pycharm": {
     "name": "#%%\n"
    }
   }
  },
  {
   "cell_type": "code",
   "execution_count": 17,
   "outputs": [],
   "source": [
    "for d in dirs:\n",
    "    if not os.path.exists(d):\n",
    "        os.makedirs(d)"
   ],
   "metadata": {
    "collapsed": false,
    "pycharm": {
     "name": "#%%\n"
    }
   }
  },
  {
   "cell_type": "code",
   "execution_count": 18,
   "outputs": [],
   "source": [
    "s_year = 2009\n",
    "e_year = 2020\n",
    "\n",
    "s_month = 1\n",
    "e_month = 12\n",
    "\n",
    "url = \"https://www.timeanddate.com/weather/usa/new-york/historic?month={}&year={}\"\n",
    "html = html_dir + \"/{}.{}.html\"\n"
   ],
   "metadata": {
    "collapsed": false,
    "pycharm": {
     "name": "#%%\n"
    }
   }
  },
  {
   "cell_type": "code",
   "execution_count": 19,
   "outputs": [],
   "source": [
    "def check_file_exist(_path):\n",
    "    if os.path.exists(_path) and not overwrite:\n",
    "        print(\"[SYSTEM]: File exists: {}\".format(_path))\n",
    "        return True\n",
    "    else:\n",
    "        return False\n"
   ],
   "metadata": {
    "collapsed": false,
    "pycharm": {
     "name": "#%%\n"
    }
   }
  },
  {
   "cell_type": "code",
   "execution_count": 20,
   "outputs": [],
   "source": [
    "def is_valid_detail(_details, _year, _month):\n",
    "    if len(_details) == 0:\n",
    "        return False\n",
    "\n",
    "    _ts = _details[0][\"date\"] / 1000\n",
    "    _dt = datetime.utcfromtimestamp(_ts)\n",
    "    _y = _dt.year\n",
    "    _m = _dt.month\n",
    "    if _month != _m or _year != _y:\n",
    "        return False\n",
    "    return True\n"
   ],
   "metadata": {
    "collapsed": false,
    "pycharm": {
     "name": "#%%\n"
    }
   }
  },
  {
   "cell_type": "code",
   "execution_count": 21,
   "outputs": [],
   "source": [
    "def write_html(_year, _month, _page):\n",
    "    _file = open(html.format(_year, _month), \"w+\")\n",
    "    _file.write(_page.text)\n",
    "    _file.close()\n"
   ],
   "metadata": {
    "collapsed": false,
    "pycharm": {
     "name": "#%%\n"
    }
   }
  },
  {
   "cell_type": "code",
   "execution_count": 22,
   "outputs": [],
   "source": [
    "def write_csv_head(_year, _month):\n",
    "    _file = open(os.path.join(csv_dir, \"{}_{}.csv\".format(_year, _month)), \"w+\")\n",
    "    _file.write(\"time_stamp,hour,day,month,year,high,low,baro,wind,wd,hum,weather\\n\")\n",
    "    _file.close()\n"
   ],
   "metadata": {
    "collapsed": false,
    "pycharm": {
     "name": "#%%\n"
    }
   }
  },
  {
   "cell_type": "code",
   "execution_count": 23,
   "outputs": [],
   "source": [
    "def write_csv(_time_stamp, _hour, _day, _month, _year, _temp_high, _temp_low, _baro, _wind, _wd, _hum, _description):\n",
    "    _file = open(os.path.join(csv_dir, \"{}_{}.csv\".format(_year, _month)), \"a+\")\n",
    "    _count = 0\n",
    "    for _weather in _description:\n",
    "        if _weather.rstrip() == \"\":\n",
    "            continue\n",
    "        if _count:\n",
    "            break\n",
    "        _w = _weather \\\n",
    "            .replace(\"partly \", \"\") \\\n",
    "            .replace(\"passing \", \"\") \\\n",
    "            .replace(\"mostly \", \"\") \\\n",
    "            .replace(\"broken \", \"\") \\\n",
    "            .replace(\"scattered \", \"\") \\\n",
    "            .replace(\"more \", \"\") \\\n",
    "            .replace(\" than sun\", \"\") \\\n",
    "            .replace(\"no weather data available\", \"NULL\")\n",
    "        _result = \"{},{},{},{},{},{},{},{},{},{},{},{}\\n\" \\\n",
    "            .format(_time_stamp, _hour, _day, _month, _year,\n",
    "                    _temp_high, _temp_low, _baro, _wind, _wd, _hum, _w)\n",
    "        _file.writelines(_result)\n",
    "        _count = _count + 1\n",
    "    _file.close()\n"
   ],
   "metadata": {
    "collapsed": false,
    "pycharm": {
     "name": "#%%\n"
    }
   }
  },
  {
   "cell_type": "code",
   "execution_count": 24,
   "outputs": [],
   "source": [
    "def get_script(_page):\n",
    "    _soup = bs(_page.content, 'html.parser')\n",
    "    _scripts = _soup.find_all('script')\n",
    "    for _script in _scripts:\n",
    "        _json_string = re.search(r'(?<=data=)({.*})', str(_script))\n",
    "        if _json_string is not None:\n",
    "            return json.loads(str(_script)[_json_string.start():_json_string.end()])[\"detail\"]\n",
    "    return None\n",
    "\n",
    "\n",
    "def get_detail_info(_detail):\n",
    "    _time_stamp = _detail[\"date\"] / 1000\n",
    "    date = datetime.utcfromtimestamp(_time_stamp)\n",
    "    _hour = date.hour\n",
    "    _day = date.day\n",
    "    _month = date.month\n",
    "    _year = date.year\n",
    "\n",
    "    _temp_high = _detail[\"temp\"] if \"temp\" in _detail.keys() else \"NULL\"\n",
    "    _temp_low = _detail[\"templow\"] if \"templow\" in _detail.keys() else \"NULL\"\n",
    "\n",
    "    _baro = _detail[\"baro\"]\n",
    "    _wind = _detail[\"wind\"]\n",
    "    _wd = _detail[\"wd\"]\n",
    "    _hum = _detail[\"hum\"]\n",
    "    _description = _detail[\"desc\"].lower().split(\".\")\n",
    "    return _time_stamp, _hour, _day, _month, _year, _temp_high, _temp_low, _baro, _wind, _wd, _hum, _description\n"
   ],
   "metadata": {
    "collapsed": false,
    "pycharm": {
     "name": "#%%\n"
    }
   }
  },
  {
   "cell_type": "code",
   "execution_count": 25,
   "outputs": [
    {
     "name": "stdout",
     "output_type": "stream",
     "text": [
      "____________________________WEATHER_2009_1____________________________\n",
      "[SYSTEM]: Start  2009-1\n",
      "____________________________WEATHER_2009_2____________________________\n",
      "[SYSTEM]: Start  2009-2\n",
      "____________________________WEATHER_2009_3____________________________\n",
      "[SYSTEM]: Start  2009-3\n",
      "____________________________WEATHER_2009_4____________________________\n",
      "[SYSTEM]: Start  2009-4\n",
      "____________________________WEATHER_2009_5____________________________\n",
      "[SYSTEM]: Start  2009-5\n",
      "____________________________WEATHER_2009_6____________________________\n",
      "[SYSTEM]: Start  2009-6\n",
      "____________________________WEATHER_2009_7____________________________\n",
      "[SYSTEM]: Start  2009-7\n",
      "____________________________WEATHER_2009_8____________________________\n",
      "[SYSTEM]: Start  2009-8\n",
      "____________________________WEATHER_2009_9____________________________\n",
      "[SYSTEM]: File exists: /Users/kzmain/LSDE/data/nyc/weather/csv/2009_9.csv\n",
      "____________________________WEATHER_2009_10____________________________\n",
      "[SYSTEM]: File exists: /Users/kzmain/LSDE/data/nyc/weather/csv/2009_10.csv\n",
      "____________________________WEATHER_2009_11____________________________\n",
      "[SYSTEM]: File exists: /Users/kzmain/LSDE/data/nyc/weather/csv/2009_11.csv\n",
      "____________________________WEATHER_2009_12____________________________\n",
      "[SYSTEM]: File exists: /Users/kzmain/LSDE/data/nyc/weather/csv/2009_12.csv\n",
      "____________________________WEATHER_2010_1____________________________\n",
      "[SYSTEM]: File exists: /Users/kzmain/LSDE/data/nyc/weather/csv/2010_1.csv\n",
      "____________________________WEATHER_2010_2____________________________\n",
      "[SYSTEM]: File exists: /Users/kzmain/LSDE/data/nyc/weather/csv/2010_2.csv\n",
      "____________________________WEATHER_2010_3____________________________\n",
      "[SYSTEM]: File exists: /Users/kzmain/LSDE/data/nyc/weather/csv/2010_3.csv\n",
      "____________________________WEATHER_2010_4____________________________\n",
      "[SYSTEM]: File exists: /Users/kzmain/LSDE/data/nyc/weather/csv/2010_4.csv\n",
      "____________________________WEATHER_2010_5____________________________\n",
      "[SYSTEM]: File exists: /Users/kzmain/LSDE/data/nyc/weather/csv/2010_5.csv\n",
      "____________________________WEATHER_2010_6____________________________\n",
      "[SYSTEM]: File exists: /Users/kzmain/LSDE/data/nyc/weather/csv/2010_6.csv\n",
      "____________________________WEATHER_2010_7____________________________\n",
      "[SYSTEM]: File exists: /Users/kzmain/LSDE/data/nyc/weather/csv/2010_7.csv\n",
      "____________________________WEATHER_2010_8____________________________\n",
      "[SYSTEM]: File exists: /Users/kzmain/LSDE/data/nyc/weather/csv/2010_8.csv\n",
      "____________________________WEATHER_2010_9____________________________\n",
      "[SYSTEM]: File exists: /Users/kzmain/LSDE/data/nyc/weather/csv/2010_9.csv\n",
      "____________________________WEATHER_2010_10____________________________\n",
      "[SYSTEM]: File exists: /Users/kzmain/LSDE/data/nyc/weather/csv/2010_10.csv\n",
      "____________________________WEATHER_2010_11____________________________\n",
      "[SYSTEM]: File exists: /Users/kzmain/LSDE/data/nyc/weather/csv/2010_11.csv\n",
      "____________________________WEATHER_2010_12____________________________\n",
      "[SYSTEM]: File exists: /Users/kzmain/LSDE/data/nyc/weather/csv/2010_12.csv\n",
      "____________________________WEATHER_2011_1____________________________\n",
      "[SYSTEM]: File exists: /Users/kzmain/LSDE/data/nyc/weather/csv/2011_1.csv\n",
      "____________________________WEATHER_2011_2____________________________\n",
      "[SYSTEM]: File exists: /Users/kzmain/LSDE/data/nyc/weather/csv/2011_2.csv\n",
      "____________________________WEATHER_2011_3____________________________\n",
      "[SYSTEM]: File exists: /Users/kzmain/LSDE/data/nyc/weather/csv/2011_3.csv\n",
      "____________________________WEATHER_2011_4____________________________\n",
      "[SYSTEM]: File exists: /Users/kzmain/LSDE/data/nyc/weather/csv/2011_4.csv\n",
      "____________________________WEATHER_2011_5____________________________\n",
      "[SYSTEM]: File exists: /Users/kzmain/LSDE/data/nyc/weather/csv/2011_5.csv\n",
      "____________________________WEATHER_2011_6____________________________\n",
      "[SYSTEM]: File exists: /Users/kzmain/LSDE/data/nyc/weather/csv/2011_6.csv\n",
      "____________________________WEATHER_2011_7____________________________\n",
      "[SYSTEM]: File exists: /Users/kzmain/LSDE/data/nyc/weather/csv/2011_7.csv\n",
      "____________________________WEATHER_2011_8____________________________\n",
      "[SYSTEM]: File exists: /Users/kzmain/LSDE/data/nyc/weather/csv/2011_8.csv\n",
      "____________________________WEATHER_2011_9____________________________\n",
      "[SYSTEM]: File exists: /Users/kzmain/LSDE/data/nyc/weather/csv/2011_9.csv\n",
      "____________________________WEATHER_2011_10____________________________\n",
      "[SYSTEM]: File exists: /Users/kzmain/LSDE/data/nyc/weather/csv/2011_10.csv\n",
      "____________________________WEATHER_2011_11____________________________\n",
      "[SYSTEM]: File exists: /Users/kzmain/LSDE/data/nyc/weather/csv/2011_11.csv\n",
      "____________________________WEATHER_2011_12____________________________\n",
      "[SYSTEM]: File exists: /Users/kzmain/LSDE/data/nyc/weather/csv/2011_12.csv\n",
      "____________________________WEATHER_2012_1____________________________\n",
      "[SYSTEM]: File exists: /Users/kzmain/LSDE/data/nyc/weather/csv/2012_1.csv\n",
      "____________________________WEATHER_2012_2____________________________\n",
      "[SYSTEM]: File exists: /Users/kzmain/LSDE/data/nyc/weather/csv/2012_2.csv\n",
      "____________________________WEATHER_2012_3____________________________\n",
      "[SYSTEM]: File exists: /Users/kzmain/LSDE/data/nyc/weather/csv/2012_3.csv\n",
      "____________________________WEATHER_2012_4____________________________\n",
      "[SYSTEM]: File exists: /Users/kzmain/LSDE/data/nyc/weather/csv/2012_4.csv\n",
      "____________________________WEATHER_2012_5____________________________\n",
      "[SYSTEM]: File exists: /Users/kzmain/LSDE/data/nyc/weather/csv/2012_5.csv\n",
      "____________________________WEATHER_2012_6____________________________\n",
      "[SYSTEM]: File exists: /Users/kzmain/LSDE/data/nyc/weather/csv/2012_6.csv\n",
      "____________________________WEATHER_2012_7____________________________\n",
      "[SYSTEM]: File exists: /Users/kzmain/LSDE/data/nyc/weather/csv/2012_7.csv\n",
      "____________________________WEATHER_2012_8____________________________\n",
      "[SYSTEM]: File exists: /Users/kzmain/LSDE/data/nyc/weather/csv/2012_8.csv\n",
      "____________________________WEATHER_2012_9____________________________\n",
      "[SYSTEM]: File exists: /Users/kzmain/LSDE/data/nyc/weather/csv/2012_9.csv\n",
      "____________________________WEATHER_2012_10____________________________\n",
      "[SYSTEM]: File exists: /Users/kzmain/LSDE/data/nyc/weather/csv/2012_10.csv\n",
      "____________________________WEATHER_2012_11____________________________\n",
      "[SYSTEM]: File exists: /Users/kzmain/LSDE/data/nyc/weather/csv/2012_11.csv\n",
      "____________________________WEATHER_2012_12____________________________\n",
      "[SYSTEM]: File exists: /Users/kzmain/LSDE/data/nyc/weather/csv/2012_12.csv\n",
      "____________________________WEATHER_2013_1____________________________\n",
      "[SYSTEM]: File exists: /Users/kzmain/LSDE/data/nyc/weather/csv/2013_1.csv\n",
      "____________________________WEATHER_2013_2____________________________\n",
      "[SYSTEM]: File exists: /Users/kzmain/LSDE/data/nyc/weather/csv/2013_2.csv\n",
      "____________________________WEATHER_2013_3____________________________\n",
      "[SYSTEM]: File exists: /Users/kzmain/LSDE/data/nyc/weather/csv/2013_3.csv\n",
      "____________________________WEATHER_2013_4____________________________\n",
      "[SYSTEM]: File exists: /Users/kzmain/LSDE/data/nyc/weather/csv/2013_4.csv\n",
      "____________________________WEATHER_2013_5____________________________\n",
      "[SYSTEM]: File exists: /Users/kzmain/LSDE/data/nyc/weather/csv/2013_5.csv\n",
      "____________________________WEATHER_2013_6____________________________\n",
      "[SYSTEM]: File exists: /Users/kzmain/LSDE/data/nyc/weather/csv/2013_6.csv\n",
      "____________________________WEATHER_2013_7____________________________\n",
      "[SYSTEM]: File exists: /Users/kzmain/LSDE/data/nyc/weather/csv/2013_7.csv\n",
      "____________________________WEATHER_2013_8____________________________\n",
      "[SYSTEM]: File exists: /Users/kzmain/LSDE/data/nyc/weather/csv/2013_8.csv\n",
      "____________________________WEATHER_2013_9____________________________\n",
      "[SYSTEM]: File exists: /Users/kzmain/LSDE/data/nyc/weather/csv/2013_9.csv\n",
      "____________________________WEATHER_2013_10____________________________\n",
      "[SYSTEM]: File exists: /Users/kzmain/LSDE/data/nyc/weather/csv/2013_10.csv\n",
      "____________________________WEATHER_2013_11____________________________\n",
      "[SYSTEM]: File exists: /Users/kzmain/LSDE/data/nyc/weather/csv/2013_11.csv\n",
      "____________________________WEATHER_2013_12____________________________\n",
      "[SYSTEM]: File exists: /Users/kzmain/LSDE/data/nyc/weather/csv/2013_12.csv\n",
      "____________________________WEATHER_2014_1____________________________\n",
      "[SYSTEM]: File exists: /Users/kzmain/LSDE/data/nyc/weather/csv/2014_1.csv\n",
      "____________________________WEATHER_2014_2____________________________\n",
      "[SYSTEM]: File exists: /Users/kzmain/LSDE/data/nyc/weather/csv/2014_2.csv\n",
      "____________________________WEATHER_2014_3____________________________\n",
      "[SYSTEM]: File exists: /Users/kzmain/LSDE/data/nyc/weather/csv/2014_3.csv\n",
      "____________________________WEATHER_2014_4____________________________\n",
      "[SYSTEM]: File exists: /Users/kzmain/LSDE/data/nyc/weather/csv/2014_4.csv\n",
      "____________________________WEATHER_2014_5____________________________\n",
      "[SYSTEM]: File exists: /Users/kzmain/LSDE/data/nyc/weather/csv/2014_5.csv\n",
      "____________________________WEATHER_2014_6____________________________\n",
      "[SYSTEM]: File exists: /Users/kzmain/LSDE/data/nyc/weather/csv/2014_6.csv\n",
      "____________________________WEATHER_2014_7____________________________\n",
      "[SYSTEM]: File exists: /Users/kzmain/LSDE/data/nyc/weather/csv/2014_7.csv\n",
      "____________________________WEATHER_2014_8____________________________\n",
      "[SYSTEM]: File exists: /Users/kzmain/LSDE/data/nyc/weather/csv/2014_8.csv\n",
      "____________________________WEATHER_2014_9____________________________\n",
      "[SYSTEM]: File exists: /Users/kzmain/LSDE/data/nyc/weather/csv/2014_9.csv\n",
      "____________________________WEATHER_2014_10____________________________\n",
      "[SYSTEM]: File exists: /Users/kzmain/LSDE/data/nyc/weather/csv/2014_10.csv\n",
      "____________________________WEATHER_2014_11____________________________\n",
      "[SYSTEM]: File exists: /Users/kzmain/LSDE/data/nyc/weather/csv/2014_11.csv\n",
      "____________________________WEATHER_2014_12____________________________\n",
      "[SYSTEM]: File exists: /Users/kzmain/LSDE/data/nyc/weather/csv/2014_12.csv\n",
      "____________________________WEATHER_2015_1____________________________\n",
      "[SYSTEM]: File exists: /Users/kzmain/LSDE/data/nyc/weather/csv/2015_1.csv\n",
      "____________________________WEATHER_2015_2____________________________\n",
      "[SYSTEM]: File exists: /Users/kzmain/LSDE/data/nyc/weather/csv/2015_2.csv\n",
      "____________________________WEATHER_2015_3____________________________\n",
      "[SYSTEM]: File exists: /Users/kzmain/LSDE/data/nyc/weather/csv/2015_3.csv\n",
      "____________________________WEATHER_2015_4____________________________\n",
      "[SYSTEM]: File exists: /Users/kzmain/LSDE/data/nyc/weather/csv/2015_4.csv\n",
      "____________________________WEATHER_2015_5____________________________\n",
      "[SYSTEM]: File exists: /Users/kzmain/LSDE/data/nyc/weather/csv/2015_5.csv\n",
      "____________________________WEATHER_2015_6____________________________\n",
      "[SYSTEM]: File exists: /Users/kzmain/LSDE/data/nyc/weather/csv/2015_6.csv\n",
      "____________________________WEATHER_2015_7____________________________\n",
      "[SYSTEM]: File exists: /Users/kzmain/LSDE/data/nyc/weather/csv/2015_7.csv\n",
      "____________________________WEATHER_2015_8____________________________\n",
      "[SYSTEM]: File exists: /Users/kzmain/LSDE/data/nyc/weather/csv/2015_8.csv\n",
      "____________________________WEATHER_2015_9____________________________\n",
      "[SYSTEM]: File exists: /Users/kzmain/LSDE/data/nyc/weather/csv/2015_9.csv\n",
      "____________________________WEATHER_2015_10____________________________\n",
      "[SYSTEM]: File exists: /Users/kzmain/LSDE/data/nyc/weather/csv/2015_10.csv\n",
      "____________________________WEATHER_2015_11____________________________\n",
      "[SYSTEM]: File exists: /Users/kzmain/LSDE/data/nyc/weather/csv/2015_11.csv\n",
      "____________________________WEATHER_2015_12____________________________\n",
      "[SYSTEM]: File exists: /Users/kzmain/LSDE/data/nyc/weather/csv/2015_12.csv\n",
      "____________________________WEATHER_2016_1____________________________\n",
      "[SYSTEM]: File exists: /Users/kzmain/LSDE/data/nyc/weather/csv/2016_1.csv\n",
      "____________________________WEATHER_2016_2____________________________\n",
      "[SYSTEM]: File exists: /Users/kzmain/LSDE/data/nyc/weather/csv/2016_2.csv\n",
      "____________________________WEATHER_2016_3____________________________\n",
      "[SYSTEM]: File exists: /Users/kzmain/LSDE/data/nyc/weather/csv/2016_3.csv\n",
      "____________________________WEATHER_2016_4____________________________\n",
      "[SYSTEM]: File exists: /Users/kzmain/LSDE/data/nyc/weather/csv/2016_4.csv\n",
      "____________________________WEATHER_2016_5____________________________\n",
      "[SYSTEM]: File exists: /Users/kzmain/LSDE/data/nyc/weather/csv/2016_5.csv\n",
      "____________________________WEATHER_2016_6____________________________\n",
      "[SYSTEM]: File exists: /Users/kzmain/LSDE/data/nyc/weather/csv/2016_6.csv\n",
      "____________________________WEATHER_2016_7____________________________\n",
      "[SYSTEM]: File exists: /Users/kzmain/LSDE/data/nyc/weather/csv/2016_7.csv\n",
      "____________________________WEATHER_2016_8____________________________\n",
      "[SYSTEM]: File exists: /Users/kzmain/LSDE/data/nyc/weather/csv/2016_8.csv\n",
      "____________________________WEATHER_2016_9____________________________\n",
      "[SYSTEM]: File exists: /Users/kzmain/LSDE/data/nyc/weather/csv/2016_9.csv\n",
      "____________________________WEATHER_2016_10____________________________\n",
      "[SYSTEM]: File exists: /Users/kzmain/LSDE/data/nyc/weather/csv/2016_10.csv\n",
      "____________________________WEATHER_2016_11____________________________\n",
      "[SYSTEM]: File exists: /Users/kzmain/LSDE/data/nyc/weather/csv/2016_11.csv\n",
      "____________________________WEATHER_2016_12____________________________\n",
      "[SYSTEM]: File exists: /Users/kzmain/LSDE/data/nyc/weather/csv/2016_12.csv\n",
      "____________________________WEATHER_2017_1____________________________\n",
      "[SYSTEM]: File exists: /Users/kzmain/LSDE/data/nyc/weather/csv/2017_1.csv\n",
      "____________________________WEATHER_2017_2____________________________\n",
      "[SYSTEM]: File exists: /Users/kzmain/LSDE/data/nyc/weather/csv/2017_2.csv\n",
      "____________________________WEATHER_2017_3____________________________\n",
      "[SYSTEM]: File exists: /Users/kzmain/LSDE/data/nyc/weather/csv/2017_3.csv\n",
      "____________________________WEATHER_2017_4____________________________\n",
      "[SYSTEM]: File exists: /Users/kzmain/LSDE/data/nyc/weather/csv/2017_4.csv\n",
      "____________________________WEATHER_2017_5____________________________\n",
      "[SYSTEM]: File exists: /Users/kzmain/LSDE/data/nyc/weather/csv/2017_5.csv\n",
      "____________________________WEATHER_2017_6____________________________\n",
      "[SYSTEM]: File exists: /Users/kzmain/LSDE/data/nyc/weather/csv/2017_6.csv\n",
      "____________________________WEATHER_2017_7____________________________\n",
      "[SYSTEM]: File exists: /Users/kzmain/LSDE/data/nyc/weather/csv/2017_7.csv\n",
      "____________________________WEATHER_2017_8____________________________\n",
      "[SYSTEM]: File exists: /Users/kzmain/LSDE/data/nyc/weather/csv/2017_8.csv\n",
      "____________________________WEATHER_2017_9____________________________\n",
      "[SYSTEM]: File exists: /Users/kzmain/LSDE/data/nyc/weather/csv/2017_9.csv\n",
      "____________________________WEATHER_2017_10____________________________\n",
      "[SYSTEM]: File exists: /Users/kzmain/LSDE/data/nyc/weather/csv/2017_10.csv\n",
      "____________________________WEATHER_2017_11____________________________\n",
      "[SYSTEM]: File exists: /Users/kzmain/LSDE/data/nyc/weather/csv/2017_11.csv\n",
      "____________________________WEATHER_2017_12____________________________\n",
      "[SYSTEM]: File exists: /Users/kzmain/LSDE/data/nyc/weather/csv/2017_12.csv\n",
      "____________________________WEATHER_2018_1____________________________\n",
      "[SYSTEM]: File exists: /Users/kzmain/LSDE/data/nyc/weather/csv/2018_1.csv\n",
      "____________________________WEATHER_2018_2____________________________\n",
      "[SYSTEM]: File exists: /Users/kzmain/LSDE/data/nyc/weather/csv/2018_2.csv\n",
      "____________________________WEATHER_2018_3____________________________\n",
      "[SYSTEM]: File exists: /Users/kzmain/LSDE/data/nyc/weather/csv/2018_3.csv\n",
      "____________________________WEATHER_2018_4____________________________\n",
      "[SYSTEM]: File exists: /Users/kzmain/LSDE/data/nyc/weather/csv/2018_4.csv\n",
      "____________________________WEATHER_2018_5____________________________\n",
      "[SYSTEM]: File exists: /Users/kzmain/LSDE/data/nyc/weather/csv/2018_5.csv\n",
      "____________________________WEATHER_2018_6____________________________\n",
      "[SYSTEM]: File exists: /Users/kzmain/LSDE/data/nyc/weather/csv/2018_6.csv\n",
      "____________________________WEATHER_2018_7____________________________\n",
      "[SYSTEM]: File exists: /Users/kzmain/LSDE/data/nyc/weather/csv/2018_7.csv\n",
      "____________________________WEATHER_2018_8____________________________\n",
      "[SYSTEM]: File exists: /Users/kzmain/LSDE/data/nyc/weather/csv/2018_8.csv\n",
      "____________________________WEATHER_2018_9____________________________\n",
      "[SYSTEM]: File exists: /Users/kzmain/LSDE/data/nyc/weather/csv/2018_9.csv\n",
      "____________________________WEATHER_2018_10____________________________\n",
      "[SYSTEM]: File exists: /Users/kzmain/LSDE/data/nyc/weather/csv/2018_10.csv\n",
      "____________________________WEATHER_2018_11____________________________\n",
      "[SYSTEM]: File exists: /Users/kzmain/LSDE/data/nyc/weather/csv/2018_11.csv\n",
      "____________________________WEATHER_2018_12____________________________\n",
      "[SYSTEM]: File exists: /Users/kzmain/LSDE/data/nyc/weather/csv/2018_12.csv\n",
      "____________________________WEATHER_2019_1____________________________\n",
      "[SYSTEM]: File exists: /Users/kzmain/LSDE/data/nyc/weather/csv/2019_1.csv\n",
      "____________________________WEATHER_2019_2____________________________\n",
      "[SYSTEM]: File exists: /Users/kzmain/LSDE/data/nyc/weather/csv/2019_2.csv\n",
      "____________________________WEATHER_2019_3____________________________\n",
      "[SYSTEM]: File exists: /Users/kzmain/LSDE/data/nyc/weather/csv/2019_3.csv\n",
      "____________________________WEATHER_2019_4____________________________\n",
      "[SYSTEM]: File exists: /Users/kzmain/LSDE/data/nyc/weather/csv/2019_4.csv\n",
      "____________________________WEATHER_2019_5____________________________\n",
      "[SYSTEM]: File exists: /Users/kzmain/LSDE/data/nyc/weather/csv/2019_5.csv\n",
      "____________________________WEATHER_2019_6____________________________\n",
      "[SYSTEM]: File exists: /Users/kzmain/LSDE/data/nyc/weather/csv/2019_6.csv\n",
      "____________________________WEATHER_2019_7____________________________\n",
      "[SYSTEM]: File exists: /Users/kzmain/LSDE/data/nyc/weather/csv/2019_7.csv\n",
      "____________________________WEATHER_2019_8____________________________\n",
      "[SYSTEM]: File exists: /Users/kzmain/LSDE/data/nyc/weather/csv/2019_8.csv\n",
      "____________________________WEATHER_2019_9____________________________\n",
      "[SYSTEM]: File exists: /Users/kzmain/LSDE/data/nyc/weather/csv/2019_9.csv\n",
      "____________________________WEATHER_2019_10____________________________\n",
      "[SYSTEM]: File exists: /Users/kzmain/LSDE/data/nyc/weather/csv/2019_10.csv\n",
      "____________________________WEATHER_2019_11____________________________\n",
      "[SYSTEM]: File exists: /Users/kzmain/LSDE/data/nyc/weather/csv/2019_11.csv\n",
      "____________________________WEATHER_2019_12____________________________\n",
      "[SYSTEM]: File exists: /Users/kzmain/LSDE/data/nyc/weather/csv/2019_12.csv\n",
      "____________________________WEATHER_2020_1____________________________\n",
      "[SYSTEM]: File exists: /Users/kzmain/LSDE/data/nyc/weather/csv/2020_1.csv\n",
      "____________________________WEATHER_2020_2____________________________\n",
      "[SYSTEM]: File exists: /Users/kzmain/LSDE/data/nyc/weather/csv/2020_2.csv\n",
      "____________________________WEATHER_2020_3____________________________\n",
      "[SYSTEM]: File exists: /Users/kzmain/LSDE/data/nyc/weather/csv/2020_3.csv\n",
      "____________________________WEATHER_2020_4____________________________\n",
      "[SYSTEM]: File exists: /Users/kzmain/LSDE/data/nyc/weather/csv/2020_4.csv\n",
      "____________________________WEATHER_2020_5____________________________\n",
      "[SYSTEM]: File exists: /Users/kzmain/LSDE/data/nyc/weather/csv/2020_5.csv\n",
      "____________________________WEATHER_2020_6____________________________\n",
      "[SYSTEM]: File exists: /Users/kzmain/LSDE/data/nyc/weather/csv/2020_6.csv\n",
      "____________________________WEATHER_2020_7____________________________\n",
      "[SYSTEM]: File exists: /Users/kzmain/LSDE/data/nyc/weather/csv/2020_7.csv\n",
      "____________________________WEATHER_2020_8____________________________\n",
      "[SYSTEM]: File exists: /Users/kzmain/LSDE/data/nyc/weather/csv/2020_8.csv\n",
      "____________________________WEATHER_2020_9____________________________\n",
      "[SYSTEM]: File exists: /Users/kzmain/LSDE/data/nyc/weather/csv/2020_9.csv\n",
      "____________________________WEATHER_2020_10____________________________\n",
      "[SYSTEM]: File exists: /Users/kzmain/LSDE/data/nyc/weather/csv/2020_10.csv\n",
      "____________________________WEATHER_2020_11____________________________\n",
      "[SYSTEM]: Start  2020-11\n",
      "____________________________WEATHER_2020_12____________________________\n",
      "[SYSTEM]: Start  2020-12\n"
     ]
    }
   ],
   "source": [
    "# Get weather from\n",
    "def get_weather():\n",
    "    info_title = lambda _y, _m: print(\"____________________________WEATHER_{}_{}____________________________\".format(_y, _m))\n",
    "    info_start = lambda _y, _m: print(\"[SYSTEM]: Start  {}-{}\".format(_y, _m))\n",
    "    info_end   = lambda _y, _m: print(\"[SYSTEM]: Finish {}-{}\".format(_y, _m))\n",
    "\n",
    "    for t_year in range(s_year, e_year + 1, 1):\n",
    "        for t_month in range(s_month, e_month + 1, 1):\n",
    "            # Request weather data page\n",
    "            info_title(t_year, t_month)\n",
    "            if check_file_exist(os.path.join(csv_dir, \"{}_{}.csv\".format(t_year, t_month))):\n",
    "                continue\n",
    "            page = requests.get(url.format(t_month, t_year))\n",
    "            info_start(t_year, t_month)\n",
    "            if page.status_code == 200:\n",
    "                # Write backup files\n",
    "                # Extract weather data by regx\n",
    "                _details = get_script(page)\n",
    "                if not is_valid_detail(_details, t_year, t_month):\n",
    "                    continue\n",
    "                write_html(t_year, t_month, page)\n",
    "                write_csv_head(t_year, t_month)\n",
    "                for _dl in _details:\n",
    "                    ts, hour, day, month, year, high, low, baro, wind, wd, hum, description = get_detail_info(_dl)\n",
    "                    write_csv(ts, hour, day, month, year, high, low, baro, wind, wd, hum, description)\n",
    "            info_end(t_year, t_month)\n",
    "\n",
    "\n",
    "# get_weather()\n"
   ],
   "metadata": {
    "collapsed": false,
    "pycharm": {
     "name": "#%%\n"
    }
   }
  },
  {
   "cell_type": "code",
   "execution_count": 26,
   "outputs": [],
   "source": [],
   "metadata": {
    "collapsed": false,
    "pycharm": {
     "name": "#%%\n"
    }
   }
  },
  {
   "cell_type": "code",
   "execution_count": null,
   "outputs": [],
   "source": [],
   "metadata": {
    "collapsed": false,
    "pycharm": {
     "name": "#%%\n"
    }
   }
  },
  {
   "cell_type": "code",
   "execution_count": null,
   "outputs": [],
   "source": [
    "import json\n",
    "import re\n",
    "import os\n",
    "import requests\n",
    "from bs4 import BeautifulSoup as bs\n",
    "from datetime import datetime\n",
    "from pyspark.sql import SparkSession\n",
    "from pyspark.sql.functions import udf, col, from_unixtime, explode, when, lit\n",
    "from pyspark.sql.types import ShortType, ArrayType, StringType"
   ],
   "metadata": {
    "collapsed": false,
    "pycharm": {
     "name": "#%%\n"
    }
   }
  },
  {
   "cell_type": "code",
   "execution_count": null,
   "outputs": [],
   "source": [
    "# Set up modes and dirs\n",
    "overwrite = False\n",
    "databricks = False\n",
    "if not databricks:\n",
    "    from util import folder\n",
    "\n",
    "    data_dir = folder.DATA_DIR\n",
    "    spark = SparkSession.builder.getOrCreate()\n",
    "else:\n",
    "    data_dir = \"/dbfs/mnt/group01\"\n",
    "\n",
    "weather_dir = weather_dbfs = os.path.join(data_dir, \"nyc/weather\")\n",
    "html_dir = html_dbfs = os.path.join(weather_dir, \"html\")\n",
    "csv_dir = csv_dbfs = os.path.join(weather_dir, \"csv\")\n",
    "par_dir = par_dbfs = os.path.join(weather_dir, \"parquet\")\n",
    "if databricks:\n",
    "    weather_dbfs = weather_dbfs.replace(\"/dbfs\", \"\")\n",
    "    html_dbfs = html_dbfs.replace(\"/dbfs\", \"\")\n",
    "    csv_dbfs = csv_dbfs.replace(\"/dbfs\", \"\")\n",
    "    par_dbfs = par_dbfs.replace(\"/dbfs\", \"\")\n",
    "\n",
    "dirs = [data_dir, weather_dir, html_dir, csv_dir]"
   ],
   "metadata": {
    "collapsed": false,
    "pycharm": {
     "name": "#%%\n"
    }
   }
  },
  {
   "cell_type": "code",
   "execution_count": null,
   "outputs": [],
   "source": [
    "for d in dirs:\n",
    "    if not os.path.exists(d):\n",
    "        os.makedirs(d)"
   ],
   "metadata": {
    "collapsed": false,
    "pycharm": {
     "name": "#%%\n"
    }
   }
  },
  {
   "cell_type": "code",
   "execution_count": null,
   "outputs": [],
   "source": [
    "s_year = 2009\n",
    "e_year = 2020\n",
    "\n",
    "s_month = 1\n",
    "e_month = 12\n",
    "\n",
    "url = \"https://www.timeanddate.com/weather/usa/new-york/historic?month={}&year={}\"\n",
    "html = html_dir + \"/{}.{}.html\"\n"
   ],
   "metadata": {
    "collapsed": false,
    "pycharm": {
     "name": "#%%\n"
    }
   }
  },
  {
   "cell_type": "code",
   "execution_count": null,
   "outputs": [],
   "source": [
    "def check_file_exist(_path):\n",
    "    if os.path.exists(_path) and not overwrite:\n",
    "        print(\"[SYSTEM]: File exists: {}\".format(_path))\n",
    "        return True\n",
    "    else:\n",
    "        return False\n"
   ],
   "metadata": {
    "collapsed": false,
    "pycharm": {
     "name": "#%%\n"
    }
   }
  },
  {
   "cell_type": "code",
   "execution_count": null,
   "outputs": [],
   "source": [
    "def is_valid_detail(_details, _year, _month):\n",
    "    if len(_details) == 0:\n",
    "        return False\n",
    "\n",
    "    _ts = _details[0][\"date\"] / 1000\n",
    "    _dt = datetime.utcfromtimestamp(_ts)\n",
    "    _y = _dt.year\n",
    "    _m = _dt.month\n",
    "    if _month != _m or _year != _y:\n",
    "        return False\n",
    "    return True\n"
   ],
   "metadata": {
    "collapsed": false,
    "pycharm": {
     "name": "#%%\n"
    }
   }
  },
  {
   "cell_type": "code",
   "execution_count": null,
   "outputs": [],
   "source": [
    "def write_html(_year, _month, _page):\n",
    "    _file = open(html.format(_year, _month), \"w+\")\n",
    "    _file.write(_page.text)\n",
    "    _file.close()\n"
   ],
   "metadata": {
    "collapsed": false,
    "pycharm": {
     "name": "#%%\n"
    }
   }
  },
  {
   "cell_type": "code",
   "execution_count": null,
   "outputs": [],
   "source": [
    "def write_csv_head(_year, _month):\n",
    "    _file = open(os.path.join(csv_dir, \"{}_{}.csv\".format(_year, _month)), \"w+\")\n",
    "    _file.write(\"time_stamp,hour,day,month,year,high,low,baro,wind,wd,hum,weather\\n\")\n",
    "    _file.close()\n"
   ],
   "metadata": {
    "collapsed": false,
    "pycharm": {
     "name": "#%%\n"
    }
   }
  },
  {
   "cell_type": "code",
   "execution_count": null,
   "outputs": [],
   "source": [
    "def write_csv(_time_stamp, _hour, _day, _month, _year, _temp_high, _temp_low, _baro, _wind, _wd, _hum, _description):\n",
    "    _file = open(os.path.join(csv_dir, \"{}_{}.csv\".format(_year, _month)), \"a+\")\n",
    "    _count = 0\n",
    "    for _weather in _description:\n",
    "        if _weather.rstrip() == \"\":\n",
    "            continue\n",
    "        if _count:\n",
    "            break\n",
    "        _w = _weather \\\n",
    "            .replace(\"partly \", \"\") \\\n",
    "            .replace(\"passing \", \"\") \\\n",
    "            .replace(\"mostly \", \"\") \\\n",
    "            .replace(\"broken \", \"\") \\\n",
    "            .replace(\"scattered \", \"\") \\\n",
    "            .replace(\"more \", \"\") \\\n",
    "            .replace(\" than sun\", \"\") \\\n",
    "            .replace(\"no weather data available\", \"NULL\")\n",
    "        _result = \"{},{},{},{},{},{},{},{},{},{},{},{}\\n\" \\\n",
    "            .format(_time_stamp, _hour, _day, _month, _year,\n",
    "                    _temp_high, _temp_low, _baro, _wind, _wd, _hum, _w)\n",
    "        _file.writelines(_result)\n",
    "        _count = _count + 1\n",
    "    _file.close()\n"
   ],
   "metadata": {
    "collapsed": false,
    "pycharm": {
     "name": "#%%\n"
    }
   }
  },
  {
   "cell_type": "code",
   "execution_count": null,
   "outputs": [],
   "source": [
    "def get_script(_page):\n",
    "    _soup = bs(_page.content, 'html.parser')\n",
    "    _scripts = _soup.find_all('script')\n",
    "    for _script in _scripts:\n",
    "        _json_string = re.search(r'(?<=data=)({.*})', str(_script))\n",
    "        if _json_string is not None:\n",
    "            return json.loads(str(_script)[_json_string.start():_json_string.end()])[\"detail\"]\n",
    "    return None\n",
    "\n",
    "\n",
    "def get_detail_info(_detail):\n",
    "    _time_stamp = _detail[\"date\"] / 1000\n",
    "    date = datetime.utcfromtimestamp(_time_stamp)\n",
    "    _hour = date.hour\n",
    "    _day = date.day\n",
    "    _month = date.month\n",
    "    _year = date.year\n",
    "\n",
    "    _temp_high = _detail[\"temp\"] if \"temp\" in _detail.keys() else \"NULL\"\n",
    "    _temp_low = _detail[\"templow\"] if \"templow\" in _detail.keys() else \"NULL\"\n",
    "\n",
    "    _baro = _detail[\"baro\"]\n",
    "    _wind = _detail[\"wind\"]\n",
    "    _wd = _detail[\"wd\"]\n",
    "    _hum = _detail[\"hum\"]\n",
    "    _description = _detail[\"desc\"].lower().split(\".\")\n",
    "    return _time_stamp, _hour, _day, _month, _year, _temp_high, _temp_low, _baro, _wind, _wd, _hum, _description\n"
   ],
   "metadata": {
    "collapsed": false,
    "pycharm": {
     "name": "#%%\n"
    }
   }
  },
  {
   "cell_type": "code",
   "execution_count": null,
   "outputs": [],
   "source": [
    "# Get weather from\n",
    "def get_weather():\n",
    "    info_title = lambda _y, _m: print(\"____________________________WEATHER_{}_{}____________________________\".format(_y, _m))\n",
    "    info_start = lambda _y, _m: print(\"[SYSTEM]: Start  {}-{}\".format(_y, _m))\n",
    "    info_end   = lambda _y, _m: print(\"[SYSTEM]: Finish {}-{}\".format(_y, _m))\n",
    "\n",
    "    for t_year in range(s_year, e_year + 1, 1):\n",
    "        for t_month in range(s_month, e_month + 1, 1):\n",
    "            # Request weather data page\n",
    "            info_title(t_year, t_month)\n",
    "            if check_file_exist(os.path.join(csv_dir, \"{}_{}.csv\".format(t_year, t_month))):\n",
    "                continue\n",
    "            page = requests.get(url.format(t_month, t_year))\n",
    "            info_start(t_year, t_month)\n",
    "            if page.status_code == 200:\n",
    "                # Write backup files\n",
    "                # Extract weather data by regx\n",
    "                _details = get_script(page)\n",
    "                if not is_valid_detail(_details, t_year, t_month):\n",
    "                    continue\n",
    "                write_html(t_year, t_month, page)\n",
    "                write_csv_head(t_year, t_month)\n",
    "                for _dl in _details:\n",
    "                    ts, hour, day, month, year, high, low, baro, wind, wd, hum, description = get_detail_info(_dl)\n",
    "                    write_csv(ts, hour, day, month, year, high, low, baro, wind, wd, hum, description)\n",
    "            info_end(t_year, t_month)\n",
    "\n",
    "\n",
    "# get_weather()\n"
   ],
   "metadata": {
    "collapsed": false,
    "pycharm": {
     "name": "#%%\n"
    }
   }
  },
  {
   "cell_type": "code",
   "execution_count": null,
   "outputs": [],
   "source": [
    "def list_hour(hour):\n",
    "    res = []\n",
    "    for h in range(hour, hour + 6):\n",
    "        res.append(h)\n",
    "    return res\n",
    "\n",
    "\n",
    "spark_cube = udf(list_hour, ArrayType(ShortType()))\n",
    "\n",
    "\n",
    "spark.read.option(\"header\", True) \\\n",
    "    .csv(\"{}/*.csv\".format(csv_dbfs)) \\\n",
    "    .withColumn(\"hour\", col(\"hour\").cast(ShortType())) \\\n",
    "    .withColumn(\"day\", col(\"day\").cast(ShortType())) \\\n",
    "    .withColumn(\"month\", col(\"month\").cast(ShortType())) \\\n",
    "    .withColumn(\"year\", col(\"year\").cast(ShortType())) \\\n",
    "    .withColumn(\"high\", col(\"high\").cast(ShortType())) \\\n",
    "    .withColumn(\"low\", col(\"low\").cast(ShortType())) \\\n",
    "    .withColumn(\"baro\", col(\"baro\").cast(ShortType())) \\\n",
    "    .withColumn(\"wind\", col(\"wind\").cast(ShortType())) \\\n",
    "    .withColumn(\"wd\", col(\"wd\").cast(ShortType())) \\\n",
    "    .withColumn(\"hum\", col(\"hum\").cast(ShortType())) \\\n",
    "    .withColumn(\"time_stamp\", from_unixtime(\"time_stamp\").alias(\"time_stamp\")) \\\n",
    "    .withColumn(\"hour\", spark_cube(\"hour\")) \\\n",
    "    .withColumn(\"hour\", explode(\"hour\")) \\\n",
    "    .withColumn(\"weather\", when(col(\"weather\") == \"NULL\", lit(None)).otherwise(col(\"weather\"))) \\\n",
    "    .write.mode(\"overwrite\") \\\n",
    "    .option(\"compression\", \"gzip\") \\\n",
    "    .parquet(par_dbfs)"
   ],
   "metadata": {
    "collapsed": false,
    "pycharm": {
     "name": "#%%\n"
    }
   }
  }
 ],
 "metadata": {
  "kernelspec": {
   "display_name": "Python 3",
   "language": "python",
   "name": "python3"
  },
  "language_info": {
   "codemirror_mode": {
    "name": "ipython",
    "version": 2
   },
   "file_extension": ".py",
   "mimetype": "text/x-python",
   "name": "python",
   "nbconvert_exporter": "python",
   "pygments_lexer": "ipython2",
   "version": "2.7.6"
  }
 },
 "nbformat": 4,
 "nbformat_minor": 0
}