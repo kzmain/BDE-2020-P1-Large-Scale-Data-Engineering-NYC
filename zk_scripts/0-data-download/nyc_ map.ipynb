{
 "cells": [
  {
   "cell_type": "code",
   "execution_count": 2,
   "outputs": [],
   "source": [
    "import pandas\n",
    "from pyspark.sql.functions import udf, explode\n",
    "from pyspark.sql.types import ArrayType, LongType\n",
    "from pyspark.sql import SparkSession\n",
    "import os\n",
    "import osmnx as ox"
   ],
   "metadata": {
    "collapsed": false,
    "pycharm": {
     "name": "#%%\n"
    }
   }
  },
  {
   "cell_type": "code",
   "execution_count": 3,
   "outputs": [],
   "source": [
    "# Set up modes and dirs\n",
    "overwrite  = False\n",
    "databricks = False\n",
    "if not databricks:\n",
    "    from util import folder\n",
    "    data_dir = folder.DATA_DIR\n",
    "    spark = SparkSession.builder.getOrCreate()\n",
    "else:\n",
    "    data_dir = \"/dbfs/mnt/group01\"\n",
    "\n",
    "map_dir = map_dbfs= os.path.join(data_dir, \"nyc/map\")\n",
    "\n",
    "if databricks:\n",
    "    map_dbfs = map_dbfs.replace(\"/dbfs\", \"\")\n",
    "\n",
    "dirs = [data_dir, map_dir]"
   ],
   "metadata": {
    "collapsed": false,
    "pycharm": {
     "name": "#%%\n"
    }
   }
  },
  {
   "cell_type": "code",
   "execution_count": 4,
   "outputs": [],
   "source": [
    "for d in dirs:\n",
    "    if not os.path.exists(d):\n",
    "        os.makedirs(d)"
   ],
   "metadata": {
    "collapsed": false,
    "pycharm": {
     "name": "#%%\n"
    }
   }
  },
  {
   "cell_type": "code",
   "execution_count": 5,
   "outputs": [],
   "source": [
    "nyc_map = None"
   ],
   "metadata": {
    "collapsed": false,
    "pycharm": {
     "name": "#%%\n"
    }
   }
  },
  {
   "cell_type": "code",
   "execution_count": 6,
   "outputs": [],
   "source": [
    "def check_file_exist(_path):\n",
    "    if os.path.exists(_path) and not overwrite:\n",
    "            print(\"[SYSTEM]: File exists: {}\".format(_path))\n",
    "            return True\n",
    "    else:\n",
    "        return False"
   ],
   "metadata": {
    "collapsed": false,
    "pycharm": {
     "name": "#%%\n"
    }
   }
  },
  {
   "cell_type": "code",
   "execution_count": 7,
   "outputs": [],
   "source": [
    "def get_nyc_map():\n",
    "    info_title = lambda _file_name : print(\"____________________________MAP_DOWNLOAD_{}____________________________\".format(_file_name))\n",
    "    info_start = lambda _file_name : print(\"[SYSTEM]: Start  {}\".format(_file_name))\n",
    "    info_end   = lambda _file_name : print(\"[SYSTEM]: Finish {}\".format(_file_name))\n",
    "    info_title(\"NYC\")\n",
    "    dest = os.path.join(map_dir, \"NYC.mph\")\n",
    "    try:\n",
    "        info_start(\"NYC.mph\")\n",
    "        if check_file_exist(dest):\n",
    "            remote_map = ox.load_graphml(dest)\n",
    "        else:\n",
    "            remote_map = ox.graph_from_place('New York City, New York, USA', network_type='drive')\n",
    "            ox.save_graphml(remote_map, dest)\n",
    "        info_end(\"NYC.mph\")\n",
    "        return remote_map\n",
    "    except Exception:\n",
    "        print(\"Exception : NYC Map's data is not downloaded\")"
   ],
   "metadata": {
    "collapsed": false,
    "pycharm": {
     "name": "#%%\n"
    }
   }
  },
  {
   "cell_type": "code",
   "execution_count": 8,
   "outputs": [
    {
     "name": "stdout",
     "output_type": "stream",
     "text": [
      "____________________________MAP_DOWNLOAD_NYC____________________________\n",
      "[SYSTEM]: Start  NYC.mph\n",
      "[SYSTEM]: File exists: /Users/kzmain/LSDE/data/nyc/map/NYC.mph\n",
      "[SYSTEM]: Finish NYC.mph\n"
     ]
    }
   ],
   "source": [
    "nyc_map = get_nyc_map()"
   ],
   "metadata": {
    "collapsed": false,
    "pycharm": {
     "name": "#%%\n"
    }
   }
  },
  {
   "cell_type": "code",
   "execution_count": 9,
   "outputs": [],
   "source": [
    "def get_raw_edge_node():\n",
    "    info_title = lambda node_or_edge : print(\"____________________________RAW_{}____________________________\".format(node_or_edge))\n",
    "    info_start = lambda node_or_edge : print(\"[SYSTEM]: Start  {}\".format(node_or_edge))\n",
    "    info_end   = lambda node_or_edge : print(\"[SYSTEM]: Finish {}\".format(node_or_edge))\n",
    "    _gdf_nodes, _gdf_edges = ox.graph_to_gdfs(nyc_map, nodes=True, edges=True)\n",
    "\n",
    "\n",
    "\n",
    "    info_title(\"NODE\")\n",
    "    dest = os.path.join(map_dir,\"node_raw.csv\")\n",
    "    if not check_file_exist(dest):\n",
    "        info_start(\"NODE\")\n",
    "        _nodes_df = pandas.DataFrame(_gdf_nodes)[['osmid','y','x']]\n",
    "        _nodes_df.to_csv(dest, index=False)\n",
    "        info_end(\"NODE\")\n",
    "\n",
    "    info_title(\"EDGE\")\n",
    "    dest = os.path.join(map_dir,\"edge_raw.csv\")\n",
    "    if not check_file_exist(dest):\n",
    "        info_start(\"EDGE\")\n",
    "        _edges_df = pandas.DataFrame(_gdf_edges)[['osmid', 'oneway', 'length', 'u', 'v']]\n",
    "        _edges_df.to_csv(dest, index=False)\n",
    "        info_end(\"EDGE\")"
   ],
   "metadata": {
    "collapsed": false,
    "pycharm": {
     "name": "#%%\n"
    }
   }
  },
  {
   "cell_type": "code",
   "execution_count": 10,
   "outputs": [
    {
     "name": "stdout",
     "output_type": "stream",
     "text": [
      "____________________________RAW_NODE____________________________\n",
      "[SYSTEM]: File exists: /Users/kzmain/LSDE/data/nyc/map/node_raw.csv\n",
      "____________________________RAW_EDGE____________________________\n",
      "[SYSTEM]: File exists: /Users/kzmain/LSDE/data/nyc/map/edge_raw.csv\n"
     ]
    }
   ],
   "source": [
    "get_raw_edge_node()\n"
   ],
   "metadata": {
    "collapsed": false,
    "pycharm": {
     "name": "#%%\n"
    }
   }
  },
  {
   "cell_type": "code",
   "execution_count": 11,
   "outputs": [],
   "source": [
    "def string_to_list(osmids):\n",
    "    res = []\n",
    "    osmids = osmids.replace(\"[\", \"\").replace(\"]\", \"\").replace(\" \", \"\")\n",
    "    for osmid in osmids.split(\",\"):\n",
    "        res.append(int(osmid))\n",
    "    return res\n",
    "\n",
    "to_list_udf = udf(string_to_list, ArrayType(LongType()))"
   ],
   "metadata": {
    "collapsed": false,
    "pycharm": {
     "name": "#%%\n"
    }
   }
  },
  {
   "cell_type": "code",
   "execution_count": 12,
   "outputs": [],
   "source": [
    "def process_edge():\n",
    "    info_title = lambda node_or_edge : print(\"____________________________FINAL_{}____________________________\".format(node_or_edge))\n",
    "    info_start = lambda node_or_edge : print(\"[SYSTEM]: Start  {}\".format(node_or_edge))\n",
    "    info_end   = lambda node_or_edge : print(\"[SYSTEM]: Finish {}\".format(node_or_edge))\n",
    "    info_title(\"EDGE\")\n",
    "    dest = os.path.join(map_dir,\"edge.parquet\")\n",
    "    if check_file_exist(dest):\n",
    "        return\n",
    "    info_start(\"EDGE\")\n",
    "    nodes_df = spark.read\\\n",
    "    .option(\"inferschema\", True)\\\n",
    "    .option(\"header\", True)\\\n",
    "    .csv(os.path.join(map_dbfs,\"edge_raw.csv\"))\n",
    "\n",
    "    nodes_df\\\n",
    "    .withColumn('osmid', to_list_udf('osmid'))\\\n",
    "    .withColumn('osmid', explode('osmid'))\\\n",
    "    .write.parquet(dest)\n",
    "    info_end(\"EDGE\")"
   ],
   "metadata": {
    "collapsed": false,
    "pycharm": {
     "name": "#%%\n"
    }
   }
  },
  {
   "cell_type": "code",
   "execution_count": 13,
   "outputs": [
    {
     "name": "stdout",
     "output_type": "stream",
     "text": [
      "____________________________FINAL_EDGE____________________________\n",
      "[SYSTEM]: File exists: /Users/kzmain/LSDE/data/nyc/map/edge.parquet\n"
     ]
    }
   ],
   "source": [
    "process_edge()"
   ],
   "metadata": {
    "collapsed": false,
    "pycharm": {
     "name": "#%%\n"
    }
   }
  },
  {
   "cell_type": "code",
   "execution_count": 14,
   "outputs": [],
   "source": [
    "def process_node():\n",
    "    info_title = lambda node_or_edge : print(\"____________________________FINAL_{}____________________________\".format(node_or_edge))\n",
    "    info_start = lambda node_or_edge : print(\"[SYSTEM]: Start  {}\".format(node_or_edge))\n",
    "    info_end   = lambda node_or_edge : print(\"[SYSTEM]: Finish {}\".format(node_or_edge))\n",
    "    info_title(\"NODE\")\n",
    "    dest = os.path.join(map_dir,\"node.parquet\")\n",
    "    if check_file_exist(dest):\n",
    "        return\n",
    "    info_start(\"NODE\")\n",
    "    spark.read\\\n",
    "    .option(\"inferschema\", True)\\\n",
    "    .option(\"header\", True)\\\n",
    "    .csv(os.path.join(map_dbfs,\"node_raw.csv\"))\\\n",
    "    .write.parquet(os.path.join(map_dbfs,\"node.parquet\"))\n",
    "    info_end(\"NODE\")"
   ],
   "metadata": {
    "collapsed": false,
    "pycharm": {
     "name": "#%%\n"
    }
   }
  },
  {
   "cell_type": "code",
   "execution_count": 15,
   "outputs": [
    {
     "name": "stdout",
     "output_type": "stream",
     "text": [
      "____________________________FINAL_NODE____________________________\n",
      "[SYSTEM]: File exists: /Users/kzmain/LSDE/data/nyc/map/node.parquet\n"
     ]
    }
   ],
   "source": [
    "process_node()"
   ],
   "metadata": {
    "collapsed": false,
    "pycharm": {
     "name": "#%%\n"
    }
   }
  }
 ],
 "metadata": {
  "kernelspec": {
   "display_name": "Python 3",
   "language": "python",
   "name": "python3"
  },
  "language_info": {
   "codemirror_mode": {
    "name": "ipython",
    "version": 2
   },
   "file_extension": ".py",
   "mimetype": "text/x-python",
   "name": "python",
   "nbconvert_exporter": "python",
   "pygments_lexer": "ipython2",
   "version": "2.7.6"
  }
 },
 "nbformat": 4,
 "nbformat_minor": 0
}