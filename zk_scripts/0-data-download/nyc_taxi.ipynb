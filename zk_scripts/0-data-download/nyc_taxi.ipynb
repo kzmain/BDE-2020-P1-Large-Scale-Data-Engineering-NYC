{
 "cells": [
  {
   "cell_type": "code",
   "execution_count": null,
   "metadata": {
    "collapsed": true
   },
   "outputs": [],
   "source": [
    "import urllib.request\n",
    "import os"
   ]
  },
  {
   "cell_type": "code",
   "execution_count": null,
   "outputs": [],
   "source": [
    "# Set up modes and dirs\n",
    "overwrite  = False\n",
    "databricks = False\n",
    "if not databricks:\n",
    "    from util import folder\n",
    "    data_dir = folder.DATA_DIR\n",
    "else:\n",
    "    data_dir = \"/dbfs/mnt/group01\"\n",
    "\n",
    "yellow_dir = os.path.join(data_dir, \"yellow_download\")\n",
    "dirs = [data_dir, yellow_dir]"
   ],
   "metadata": {
    "collapsed": false,
    "pycharm": {
     "name": "#%%\n"
    }
   }
  },
  {
   "cell_type": "code",
   "execution_count": null,
   "outputs": [],
   "source": [
    "for d in dirs:\n",
    "    if not os.path.exists(d):\n",
    "        os.makedirs(d)"
   ],
   "metadata": {
    "collapsed": false,
    "pycharm": {
     "name": "#%%\n"
    }
   }
  },
  {
   "cell_type": "code",
   "execution_count": null,
   "outputs": [],
   "source": [
    "year_start = 2009\n",
    "year_end   = 2016"
   ],
   "metadata": {
    "collapsed": false,
    "pycharm": {
     "name": "#%%\n"
    }
   }
  },
  {
   "cell_type": "code",
   "execution_count": null,
   "outputs": [],
   "source": [
    "def check_file_exist(_path):\n",
    "    if os.path.exists(_path) and not overwrite:\n",
    "            print(\"[SYSTEM]: File exists: {}\".format(_path))\n",
    "            return True\n",
    "    else:\n",
    "        return False"
   ],
   "metadata": {
    "collapsed": false,
    "pycharm": {
     "name": "#%%\n"
    }
   }
  },
  {
   "cell_type": "code",
   "execution_count": null,
   "outputs": [],
   "source": [
    "def get_yellow_taxi():\n",
    "    info_title = lambda _y, _m : print(\"____________________________YELLOW_DOWNLAOD_{}_{}____________________________\".format(_y, _m))\n",
    "    info_start = lambda _y, _m : print(\"[SYSTEM]: Start  {}-{}\".format(_y, _m))\n",
    "    info_end   = lambda _y, _m : print(\"[SYSTEM]: Finish {}-{}\".format(_y, _m))\n",
    "    dest = \"{}/yellow_tripdata_{}-{}.csv\"\n",
    "    reso = \"https://s3.amazonaws.com/nyc-tlc/trip+data/yellow_tripdata_{}-{}.csv\"\n",
    "    months = [\"01\", \"02\", \"03\", \"04\", \"05\", \"06\", \"07\", \"08\", \"09\", \"10\", \"11\", \"12\"]\n",
    "    for year in range(year_start, year_end + 1):\n",
    "        for month in months:\n",
    "            if year == 2016 and int(month) > 6:\n",
    "                break\n",
    "            info_title(year, month)\n",
    "            if check_file_exist(dest.format(yellow_dir, year, month)):\n",
    "                continue\n",
    "            try:\n",
    "                info_start(year, month)\n",
    "                urllib.request.urlretrieve(reso.format(year, month), dest.format(yellow_dir, year, month))\n",
    "                info_end(year, month)\n",
    "            except urllib.error.HTTPError:\n",
    "                print(\"HTTP  Exception : \" + str(year) + \" \" + month + \"'s yellow trip data is not downloaded\")\n",
    "            except urllib.error.URLError:\n",
    "                print(\"URL   Exception : \" + str(year) + \" \" + month + \"'s yellow trip data is not downloaded\")"
   ],
   "metadata": {
    "collapsed": false,
    "pycharm": {
     "name": "#%%\n"
    }
   }
  },
  {
   "cell_type": "code",
   "execution_count": null,
   "outputs": [],
   "source": [
    "get_yellow_taxi()\n"
   ],
   "metadata": {
    "collapsed": false,
    "pycharm": {
     "name": "#%%\n"
    }
   }
  }
 ],
 "metadata": {
  "kernelspec": {
   "display_name": "Python 3",
   "language": "python",
   "name": "python3"
  },
  "language_info": {
   "codemirror_mode": {
    "name": "ipython",
    "version": 2
   },
   "file_extension": ".py",
   "mimetype": "text/x-python",
   "name": "python",
   "nbconvert_exporter": "python",
   "pygments_lexer": "ipython2",
   "version": "2.7.6"
  }
 },
 "nbformat": 4,
 "nbformat_minor": 0
}