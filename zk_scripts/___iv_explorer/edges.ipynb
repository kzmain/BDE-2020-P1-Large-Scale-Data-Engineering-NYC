{
 "cells": [
  {
   "cell_type": "code",
   "execution_count": 14,
   "metadata": {},
   "outputs": [
    {
     "name": "stdout",
     "output_type": "stream",
     "text": [
      "Collecting pyarrow\n",
      "  Using cached pyarrow-1.0.1-cp38-cp38-macosx_10_9_x86_64.whl (11.0 MB)\n",
      "Requirement already satisfied: numpy>=1.14 in /usr/local/lib/python3.8/site-packages (from pyarrow) (1.19.2)\n",
      "Installing collected packages: pyarrow\n",
      "Successfully installed pyarrow-1.0.1\n"
     ]
    }
   ],
   "source": [
    "!pip3 install pyarrow"
   ]
  },
  {
   "cell_type": "code",
   "execution_count": 15,
   "metadata": {},
   "outputs": [],
   "source": [
    "import os\n",
    "from pathlib import Path\n",
    "import geopandas as c\n",
    "from pyspark.sql import SparkSession\n",
    "import pandas\n",
    "from pyspark.sql.types import IntegerType"
   ]
  },
  {
   "cell_type": "code",
   "execution_count": 16,
   "metadata": {},
   "outputs": [],
   "source": [
    "raw_file_path = \"/Users/kzmain/LSDE/data/foil/cln/2010/1.gz.parquet\""
   ]
  },
  {
   "cell_type": "code",
   "execution_count": 17,
   "metadata": {},
   "outputs": [],
   "source": [
    "def get_file_list(_path):\n",
    "    _parquet_file_list = []\n",
    "    for _root, _dirs, _files in os.walk(_path, topdown=False):\n",
    "        for _name in _files:\n",
    "            _file_name = os.path.join(_root, _name)\n",
    "            if Path(_file_name).suffix == '.parquet':\n",
    "                _parquet_file_list.append(_file_name)\n",
    "    return _parquet_file_list"
   ]
  },
  {
   "cell_type": "code",
   "execution_count": 18,
   "metadata": {},
   "outputs": [],
   "source": [
    "def read_from_parquet(_file_list):\n",
    "    _full_df = pandas.concat(pandas.read_parquet(_parquet_file) for _parquet_file in _file_list)\n",
    "    _pick_df = _full_df[[\"pickup_longitude\", \"pickup_latitude\"]]\n",
    "    _pick_df = _pick_df.drop_duplicates()\n",
    "    _drop_df = _full_df[[\"dropoff_longitude\", \"dropoff_latitude\"]]\n",
    "    _drop_df = _drop_df.drop_duplicates()\n",
    "    return _pick_df, _drop_df"
   ]
  },
  {
   "cell_type": "code",
   "execution_count": 19,
   "metadata": {},
   "outputs": [],
   "source": [
    "parquet_file_list = get_file_list(raw_file_path)\n",
    "pick_df, drop_df = read_from_parquet(parquet_file_list)"
   ]
  },
  {
   "cell_type": "code",
   "execution_count": 20,
   "metadata": {},
   "outputs": [
    {
     "data": {
      "text/html": [
       "<div>\n",
       "<style scoped>\n",
       "    .dataframe tbody tr th:only-of-type {\n",
       "        vertical-align: middle;\n",
       "    }\n",
       "\n",
       "    .dataframe tbody tr th {\n",
       "        vertical-align: top;\n",
       "    }\n",
       "\n",
       "    .dataframe thead th {\n",
       "        text-align: right;\n",
       "    }\n",
       "</style>\n",
       "<table border=\"1\" class=\"dataframe\">\n",
       "  <thead>\n",
       "    <tr style=\"text-align: right;\">\n",
       "      <th></th>\n",
       "      <th>pickup_longitude</th>\n",
       "      <th>pickup_latitude</th>\n",
       "    </tr>\n",
       "  </thead>\n",
       "  <tbody>\n",
       "    <tr>\n",
       "      <th>0</th>\n",
       "      <td>-73.9652</td>\n",
       "      <td>40.7910</td>\n",
       "    </tr>\n",
       "    <tr>\n",
       "      <th>1</th>\n",
       "      <td>-74.0149</td>\n",
       "      <td>40.7096</td>\n",
       "    </tr>\n",
       "    <tr>\n",
       "      <th>2</th>\n",
       "      <td>-73.9595</td>\n",
       "      <td>40.7090</td>\n",
       "    </tr>\n",
       "    <tr>\n",
       "      <th>3</th>\n",
       "      <td>-74.0085</td>\n",
       "      <td>40.7350</td>\n",
       "    </tr>\n",
       "    <tr>\n",
       "      <th>4</th>\n",
       "      <td>-73.9723</td>\n",
       "      <td>40.7496</td>\n",
       "    </tr>\n",
       "    <tr>\n",
       "      <th>...</th>\n",
       "      <td>...</td>\n",
       "      <td>...</td>\n",
       "    </tr>\n",
       "    <tr>\n",
       "      <th>26531</th>\n",
       "      <td>-73.9552</td>\n",
       "      <td>40.7758</td>\n",
       "    </tr>\n",
       "    <tr>\n",
       "      <th>26546</th>\n",
       "      <td>-73.7782</td>\n",
       "      <td>40.6443</td>\n",
       "    </tr>\n",
       "    <tr>\n",
       "      <th>26549</th>\n",
       "      <td>-73.9012</td>\n",
       "      <td>40.7498</td>\n",
       "    </tr>\n",
       "    <tr>\n",
       "      <th>26560</th>\n",
       "      <td>-73.8242</td>\n",
       "      <td>40.6651</td>\n",
       "    </tr>\n",
       "    <tr>\n",
       "      <th>26687</th>\n",
       "      <td>-73.9507</td>\n",
       "      <td>40.7123</td>\n",
       "    </tr>\n",
       "  </tbody>\n",
       "</table>\n",
       "<p>504528 rows × 2 columns</p>\n",
       "</div>"
      ],
      "text/plain": [
       "       pickup_longitude  pickup_latitude\n",
       "0              -73.9652          40.7910\n",
       "1              -74.0149          40.7096\n",
       "2              -73.9595          40.7090\n",
       "3              -74.0085          40.7350\n",
       "4              -73.9723          40.7496\n",
       "...                 ...              ...\n",
       "26531          -73.9552          40.7758\n",
       "26546          -73.7782          40.6443\n",
       "26549          -73.9012          40.7498\n",
       "26560          -73.8242          40.6651\n",
       "26687          -73.9507          40.7123\n",
       "\n",
       "[504528 rows x 2 columns]"
      ]
     },
     "metadata": {},
     "output_type": "display_data"
    }
   ],
   "source": [
    "display(pick_df)"
   ]
  },
  {
   "cell_type": "code",
   "execution_count": 25,
   "metadata": {},
   "outputs": [],
   "source": [
    "pick_gdf = gpd.GeoDataFrame(pick_df, geometry=gpd.points_from_xy(pick_df.pickup_longitude, pick_df.pickup_latitude))"
   ]
  },
  {
   "cell_type": "code",
   "execution_count": 29,
   "metadata": {},
   "outputs": [],
   "source": [
    "import osmnx as ox\n",
    "map_dir = map_dbfs= os.path.join(\"../data\", \"nyc/map\")\n",
    "nyc_mph = os.path.join(map_dir, \"NYC.mph\")\n",
    "nyc_map = ox.load_graphml(nyc_mph)"
   ]
  },
  {
   "cell_type": "code",
   "execution_count": 37,
   "metadata": {},
   "outputs": [],
   "source": [
    "edges = ox.get_nearest_edges(nyc_map, pick_df[\"pickup_longitude\"], pick_df[\"pickup_latitude\"], method='kdtree', dist=0.0001)"
   ]
  },
  {
   "cell_type": "code",
   "execution_count": 38,
   "metadata": {},
   "outputs": [
    {
     "data": {
      "text/plain": [
       "504528"
      ]
     },
     "execution_count": 38,
     "metadata": {},
     "output_type": "execute_result"
    }
   ],
   "source": [
    "len(edges)"
   ]
  },
  {
   "cell_type": "code",
   "execution_count": null,
   "metadata": {},
   "outputs": [],
   "source": []
  }
 ],
 "metadata": {
  "kernelspec": {
   "display_name": "Python 3",
   "language": "python",
   "name": "python3"
  },
  "language_info": {
   "codemirror_mode": {
    "name": "ipython",
    "version": 3
   },
   "file_extension": ".py",
   "mimetype": "text/x-python",
   "name": "python",
   "nbconvert_exporter": "python",
   "pygments_lexer": "ipython3",
   "version": "3.8.5"
  }
 },
 "nbformat": 4,
 "nbformat_minor": 4
}
