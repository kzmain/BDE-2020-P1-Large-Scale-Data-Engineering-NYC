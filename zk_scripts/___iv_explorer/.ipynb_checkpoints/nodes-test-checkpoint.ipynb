{
 "cells": [
  {
   "cell_type": "code",
   "execution_count": 1,
   "metadata": {},
   "outputs": [
    {
     "name": "stdout",
     "output_type": "stream",
     "text": [
      "Requirement already satisfied: pyarrow in /usr/local/lib/python3.8/site-packages (1.0.1)\r\n",
      "Requirement already satisfied: numpy>=1.14 in /usr/local/lib/python3.8/site-packages (from pyarrow) (1.19.2)\r\n"
     ]
    }
   ],
   "source": [
    "!pip3 install pyarrow"
   ]
  },
  {
   "cell_type": "code",
   "execution_count": 2,
   "metadata": {},
   "outputs": [],
   "source": [
    "import os\n",
    "from pathlib import Path\n",
    "import geopandas as c\n",
    "from pyspark.sql import SparkSession\n",
    "import pandas\n",
    "from pyspark.sql.types import IntegerType\n",
    "from pyspark.sql import functions as func"
   ]
  },
  {
   "cell_type": "code",
   "execution_count": 3,
   "metadata": {},
   "outputs": [],
   "source": [
    "raw_file_path = \"/Users/kzmain/LSDE/data/foil/raw/*/*.gz.parquet\"\n",
    "\n",
    "w_lon = -74.2463  # left bound\n",
    "e_lon = -73.7141  # right bound\n",
    "n_lat = 40.9166  # up bound\n",
    "s_lat = 40.4767  # down bound"
   ]
  },
  {
   "cell_type": "code",
   "execution_count": 4,
   "metadata": {},
   "outputs": [],
   "source": [
    "drop_lat = \"dropoff_latitude\"\n",
    "drop_lon = \"dropoff_longitude\"\n",
    "pick_lat = \"pickup_latitude\"\n",
    "pick_lon = \"pickup_longitude\"\n",
    "lat = \"latitude\"\n",
    "lon = \"longitude\""
   ]
  },
  {
   "cell_type": "code",
   "execution_count": 5,
   "metadata": {},
   "outputs": [],
   "source": [
    "spark = SparkSession.builder.getOrCreate()"
   ]
  },
  {
   "cell_type": "code",
   "execution_count": 6,
   "metadata": {},
   "outputs": [],
   "source": [
    "dfs = spark.read.parquet(raw_file_path)"
   ]
  },
  {
   "cell_type": "code",
   "execution_count": 7,
   "metadata": {},
   "outputs": [],
   "source": [
    "def round_coordinate(_in_df):\n",
    "    return _in_df\\\n",
    "        .withColumn(pick_lon, func.round(_in_df[pick_lon], 4)) \\\n",
    "        .withColumn(drop_lon, func.round(_in_df[drop_lon], 4)) \\\n",
    "        .withColumn(pick_lat, func.round(_in_df[pick_lat], 4)) \\\n",
    "        .withColumn(drop_lat, func.round(_in_df[drop_lat], 4))"
   ]
  },
  {
   "cell_type": "code",
   "execution_count": 8,
   "metadata": {},
   "outputs": [],
   "source": [
    "def filter_by_bound(_in_df):\n",
    "    return _in_df.filter(\n",
    "        (e_lon >= func.col(pick_lon)) &\n",
    "        (w_lon <= func.col(pick_lon)) &\n",
    "        (e_lon >= func.col(drop_lon)) &\n",
    "        (w_lon <= func.col(drop_lon)) &\n",
    "        (n_lat >= func.col(pick_lat)) &\n",
    "        (s_lat <= func.col(pick_lat)) &\n",
    "        (n_lat >= func.col(drop_lat)) &\n",
    "        (s_lat <= func.col(drop_lat))\n",
    "    )"
   ]
  },
  {
   "cell_type": "code",
   "execution_count": 9,
   "metadata": {},
   "outputs": [],
   "source": [
    "dfs = round_coordinate(dfs)\n",
    "dfs = filter_by_bound(dfs)"
   ]
  },
  {
   "cell_type": "code",
   "execution_count": 10,
   "metadata": {},
   "outputs": [],
   "source": [
    "pick = dfs.select([pick_lon, pick_lat]).withColumnRenamed(pick_lon, lon).withColumnRenamed(drop_lat, lat)\n",
    "drop = dfs.select([drop_lon, drop_lat]).withColumnRenamed(drop_lon, lon).withColumnRenamed(drop_lat, lat)\n",
    "\n",
    "both = pick.union(drop).drop_duplicates()"
   ]
  },
  {
   "cell_type": "code",
   "execution_count": 11,
   "metadata": {},
   "outputs": [
    {
     "data": {
      "text/plain": [
       "5361090"
      ]
     },
     "execution_count": 11,
     "metadata": {},
     "output_type": "execute_result"
    }
   ],
   "source": [
    "both.count()"
   ]
  },
  {
   "cell_type": "code",
   "execution_count": 12,
   "metadata": {},
   "outputs": [],
   "source": [
    "# pick.count()3188093\n",
    "# drop.count()4410010\n",
    "# rslt.count()7598103\n",
    "# both.count()5361090"
   ]
  },
  {
   "cell_type": "code",
   "execution_count": 13,
   "metadata": {},
   "outputs": [],
   "source": [
    "both.write.mode(\"overwrite\").option(\"compression\", \"gzip\").parquet(\"./node.parquet\")"
   ]
  },
  {
   "cell_type": "code",
   "execution_count": null,
   "metadata": {},
   "outputs": [],
   "source": []
  }
 ],
 "metadata": {
  "kernelspec": {
   "display_name": "Python 3",
   "language": "python",
   "name": "python3"
  },
  "language_info": {
   "codemirror_mode": {
    "name": "ipython",
    "version": 3
   },
   "file_extension": ".py",
   "mimetype": "text/x-python",
   "name": "python",
   "nbconvert_exporter": "python",
   "pygments_lexer": "ipython3",
   "version": "3.8.5"
  }
 },
 "nbformat": 4,
 "nbformat_minor": 4
}
