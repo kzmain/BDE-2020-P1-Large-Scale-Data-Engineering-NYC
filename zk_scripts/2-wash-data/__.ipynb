{
 "cells": [
  {
   "cell_type": "code",
   "execution_count": 1,
   "metadata": {
    "pycharm": {
     "name": "#%%\n"
    }
   },
   "outputs": [],
   "source": [
    "import os\n",
    "from pyspark.sql import SparkSession\n",
    "import pyspark.sql.functions as func\n",
    "from pyspark.sql.types import IntegerType, ShortType"
   ]
  },
  {
   "cell_type": "code",
   "execution_count": 2,
   "metadata": {
    "pycharm": {
     "name": "#%%\n"
    }
   },
   "outputs": [],
   "source": [
    "databricks = False\n",
    "overwrite  = False\n",
    "is_yellow  = False\n",
    "yellow     = \"yellow\" if is_yellow else \"foil\""
   ]
  },
  {
   "cell_type": "code",
   "execution_count": 3,
   "metadata": {
    "pycharm": {
     "name": "#%%\n"
    }
   },
   "outputs": [],
   "source": [
    "if not databricks:\n",
    "    data_dir = \"../data\"\n",
    "    spark = SparkSession.builder.getOrCreate()\n",
    "else:\n",
    "    data_dir = \"/dbfs/mnt/group01\"\n",
    "\n",
    "raw_pquet = raw_dbfs = data_dir + \"/{}\".format(yellow) +\"/raw/{}/{}.gz.parquet\"\n",
    "cln_pquet = cln_dbfs = data_dir + \"/{}\".format(yellow) +\"/raw-cln/{}/{}.gz.parquet\"\n",
    "\n",
    "if databricks:\n",
    "    raw_dbfs = raw_dbfs.replace(\"/dbfs\", \"\")\n",
    "    cln_dbfs = cln_dbfs.replace(\"/dbfs\", \"\")"
   ]
  },
  {
   "cell_type": "code",
   "execution_count": 4,
   "metadata": {
    "pycharm": {
     "name": "#%%\n"
    }
   },
   "outputs": [],
   "source": [
    "if is_yellow:\n",
    "    start_year = 2009\n",
    "    end_year   = 2016\n",
    "else:\n",
    "    start_year = 2010\n",
    "    end_year   = 2013"
   ]
  },
  {
   "cell_type": "code",
   "execution_count": 5,
   "metadata": {
    "pycharm": {
     "name": "#%%\n"
    }
   },
   "outputs": [],
   "source": [
    "year_range = range(start_year, end_year + 1)\n",
    "month_range = range(1, 13)"
   ]
  },
  {
   "cell_type": "code",
   "execution_count": 6,
   "metadata": {
    "pycharm": {
     "name": "#%% Data comes from osmnx map\n"
    }
   },
   "outputs": [],
   "source": [
    "w_lon = -74.2463  # left bound\n",
    "e_lon = -73.7141  # right bound\n",
    "n_lat = 40.9166  # up bound\n",
    "s_lat = 40.4767  # down bound"
   ]
  },
  {
   "cell_type": "code",
   "execution_count": 7,
   "metadata": {
    "pycharm": {
     "name": "#%%\n"
    }
   },
   "outputs": [],
   "source": [
    "def check_file_exist(_path):\n",
    "    if os.path.exists(_path) and not overwrite:\n",
    "            print(\"[SYSTEM]: File exists: {}\".format(_path))\n",
    "            return True\n",
    "    else:\n",
    "        return False"
   ]
  },
  {
   "cell_type": "code",
   "execution_count": 8,
   "metadata": {
    "pycharm": {
     "name": "#%%\n"
    }
   },
   "outputs": [],
   "source": [
    "def filter_by_bound(_in_df):\n",
    "    return _in_df.filter(\n",
    "        (e_lon >= func.col(\"pickup_longitude\"))  &\n",
    "        (w_lon <= func.col(\"pickup_longitude\"))  &\n",
    "        (e_lon >= func.col(\"dropoff_longitude\")) &\n",
    "        (w_lon <= func.col(\"dropoff_longitude\")) &\n",
    "        (n_lat >= func.col(\"pickup_latitude\"))   &\n",
    "        (s_lat <= func.col(\"pickup_latitude\"))   &\n",
    "        (n_lat >= func.col(\"dropoff_latitude\"))  &\n",
    "        (s_lat <= func.col(\"dropoff_latitude\"))\n",
    "    )"
   ]
  },
  {
   "cell_type": "code",
   "execution_count": 9,
   "metadata": {
    "pycharm": {
     "name": "#%%\n"
    }
   },
   "outputs": [],
   "source": [
    "def round_coordinate(_in_df):\n",
    "    return _in_df\\\n",
    "        .withColumn(\"dropoff_latitude\",  func.round(_in_df[\"dropoff_latitude\"], 4)) \\\n",
    "        .withColumn(\"dropoff_longitude\", func.round(_in_df[\"dropoff_longitude\"], 4)) \\\n",
    "        .withColumn(\"pickup_latitude\",   func.round(_in_df[\"pickup_latitude\"], 4)) \\\n",
    "        .withColumn(\"pickup_longitude\",  func.round(_in_df[\"pickup_longitude\"], 4))"
   ]
  },
  {
   "cell_type": "code",
   "execution_count": 10,
   "metadata": {
    "pycharm": {
     "name": "#%%\n"
    }
   },
   "outputs": [],
   "source": [
    "def filter_duration(_in_df):\n",
    "    return _in_df.withColumn(\"duration_second\",\n",
    "                      (func.unix_timestamp(func.col(\"dropoff_datetime\")) -\n",
    "                       func.unix_timestamp(func.col(\"pickup_datetime\")))\n",
    "                      .cast(IntegerType())\n",
    "                      )\\\n",
    "        .filter(func.col(\"duration_second\") > 45)"
   ]
  },
  {
   "cell_type": "code",
   "execution_count": 11,
   "metadata": {
    "pycharm": {
     "name": "#%%\n"
    }
   },
   "outputs": [],
   "source": [
    "def filter_distance(_in_df):\n",
    "    return _in_df.filter(func.col(\"trip_distance\") > 0.2)"
   ]
  },
  {
   "cell_type": "code",
   "execution_count": 12,
   "metadata": {
    "pycharm": {
     "name": "#%%\n"
    }
   },
   "outputs": [],
   "source": [
    "def expand_time(_in_df):\n",
    "    return _in_df\\\n",
    "        .withColumn(\"drop_min\", func.minute(\"dropoff_datetime\")) \\\n",
    "        .withColumn(\"drop_hour\", func.hour(\"dropoff_datetime\")) \\\n",
    "        .withColumn(\"drop_day\", func.dayofmonth(\"dropoff_datetime\"))\\\n",
    "        .withColumn(\"drop_month\", func.month(\"dropoff_datetime\")) \\\n",
    "        .withColumn(\"drop_year\", func.year(\"dropoff_datetime\")) \\\n",
    "        .withColumn(\"pick_min\", func.minute(\"pickup_datetime\"))\\\n",
    "        .withColumn(\"pick_hour\", func.hour(\"pickup_datetime\")) \\\n",
    "        .withColumn(\"pick_day\", func.dayofmonth(\"pickup_datetime\")) \\\n",
    "        .withColumn(\"pick_month\", func.month(\"pickup_datetime\")) \\\n",
    "        .withColumn(\"pick_year\", func.year(\"pickup_datetime\")) \\\n",
    "        .withColumn(\"week_day\", func.dayofweek(\"pickup_datetime\")) \\"
   ]
  },
  {
   "cell_type": "code",
   "execution_count": 13,
   "metadata": {
    "pycharm": {
     "name": "#%%\n"
    }
   },
   "outputs": [],
   "source": []
  },
  {
   "cell_type": "code",
   "execution_count": 14,
   "metadata": {
    "pycharm": {
     "name": "#%%\n"
    }
   },
   "outputs": [],
   "source": [
    "def update_schema(_in_df):\n",
    "    for c in _in_df.columns:\n",
    "        if (\"_hour\" in c) or (\"_day\" in c) or (\"_month\" in c) or (\"season\" in c):\n",
    "            _in_df = _in_df.withColumn(c, func.col(c).cast(ShortType()))\n",
    "        return _in_df\n",
    "def select_columns(_in_df):\n",
    "    if not is_yellow:\n",
    "        _in_df = _in_df.drop(\"trip_time_in_secs\")\n",
    "    else:\n",
    "        for c in _in_df.columns:\n",
    "            if c in [\"vendor_id\", \"passenger_count\", \"store_and_forward\", \"payment_type\",\n",
    "                     \"fare_amount\", \"surcharge\", \"mta_tax\", \"tolls_amount\"]:\n",
    "                _in_df = _in_df.drop(c)\n",
    "    return _in_df"
   ]
  },
  {
   "cell_type": "code",
   "execution_count": 15,
   "metadata": {
    "pycharm": {
     "name": "#%%\n"
    }
   },
   "outputs": [],
   "source": [
    "def process():\n",
    "    info_title = lambda _mode, _y, _m : print(\"____________________________{}_PROCESS_{}_{}____________________________\".format(_mode.upper(), _y, _m))\n",
    "    info_start = lambda _y, _m : print(\"[SYSTEM]: Start  {}-{}\".format(_y, _m))\n",
    "    info_end   = lambda _y, _m : print(\"[SYSTEM]: Finish {}-{}\".format(_y, _m))\n",
    "    for year in year_range:\n",
    "        for month in month_range:\n",
    "            if not os.path.exists(raw_pquet.format(year, month)):\n",
    "                continue\n",
    "            info_title(yellow, year, month)\n",
    "            if check_file_exist(cln_pquet.format(year, month)):\n",
    "                continue\n",
    "            info_start(year, month)\n",
    "            df = spark.read.parquet(raw_dbfs.format(year, month))\n",
    "            # 1. Filter by longitude and latitude\n",
    "            df = filter_by_bound(df)\n",
    "            # # Process time/length\n",
    "            # # 1. Date time to day/month/hour/minutes\n",
    "            # # 2. Get duration in seconds\n",
    "            # # 3. Remove trip duration less than 45 seconds\n",
    "            # # 3. Remove trip distance less than 200 meters\n",
    "            df = filter_duration(df)\n",
    "            df = filter_distance(df)\n",
    "\n",
    "            # 1. Round to four digit\n",
    "            df = round_coordinate(df)\n",
    "            df = expand_time(df)\n",
    "            df = expand_season(df, month)\n",
    "            df = update_schema(df)\n",
    "            df = select_columns(df)\n",
    "            df.repartition(\"pick_day\", \"pick_hour\")\\\n",
    "                .write.mode(\"overwrite\")\\\n",
    "                .option(\"compression\", \"gzip\")\\\n",
    "                .partitionBy(\"pick_day\", \"pick_hour\")\\\n",
    "                .parquet(cln_dbfs.format(year, month))\n",
    "            info_end(year, month)"
   ]
  },
  {
   "cell_type": "code",
   "execution_count": 16,
   "metadata": {
    "pycharm": {
     "name": "#%%\n"
    }
   },
   "outputs": [
    {
     "name": "stdout",
     "output_type": "stream",
     "text": [
      "____________________________FOIL_PROCESS_2010_1____________________________\n",
      "[SYSTEM]: File exists: ../data/foil/raw-cln/2010/1.gz.parquet\n",
      "____________________________FOIL_PROCESS_2010_2____________________________\n",
      "[SYSTEM]: Start  2010-2\n",
      "[SYSTEM]: Finish 2010-2\n",
      "____________________________FOIL_PROCESS_2010_3____________________________\n",
      "[SYSTEM]: Start  2010-3\n",
      "[SYSTEM]: Finish 2010-3\n",
      "____________________________FOIL_PROCESS_2010_4____________________________\n",
      "[SYSTEM]: Start  2010-4\n",
      "[SYSTEM]: Finish 2010-4\n",
      "____________________________FOIL_PROCESS_2010_5____________________________\n",
      "[SYSTEM]: Start  2010-5\n",
      "[SYSTEM]: Finish 2010-5\n",
      "____________________________FOIL_PROCESS_2010_6____________________________\n",
      "[SYSTEM]: Start  2010-6\n"
     ]
    },
    {
     "ename": "KeyboardInterrupt",
     "evalue": "",
     "output_type": "error",
     "traceback": [
      "\u001B[0;31m---------------------------------------------------------------------------\u001B[0m",
      "\u001B[0;31mKeyboardInterrupt\u001B[0m                         Traceback (most recent call last)",
      "\u001B[0;32m<ipython-input-16-34a28a13cb9b>\u001B[0m in \u001B[0;36m<module>\u001B[0;34m\u001B[0m\n\u001B[0;32m----> 1\u001B[0;31m \u001B[0mprocess\u001B[0m\u001B[0;34m(\u001B[0m\u001B[0;34m)\u001B[0m\u001B[0;34m\u001B[0m\u001B[0;34m\u001B[0m\u001B[0m\n\u001B[0m",
      "\u001B[0;32m<ipython-input-15-9aa0f3dc953d>\u001B[0m in \u001B[0;36mprocess\u001B[0;34m()\u001B[0m\n\u001B[1;32m     28\u001B[0m             \u001B[0mdf\u001B[0m \u001B[0;34m=\u001B[0m \u001B[0mupdate_schema\u001B[0m\u001B[0;34m(\u001B[0m\u001B[0mdf\u001B[0m\u001B[0;34m)\u001B[0m\u001B[0;34m\u001B[0m\u001B[0;34m\u001B[0m\u001B[0m\n\u001B[1;32m     29\u001B[0m             \u001B[0mdf\u001B[0m \u001B[0;34m=\u001B[0m \u001B[0mselect_columns\u001B[0m\u001B[0;34m(\u001B[0m\u001B[0mdf\u001B[0m\u001B[0;34m)\u001B[0m\u001B[0;34m\u001B[0m\u001B[0;34m\u001B[0m\u001B[0m\n\u001B[0;32m---> 30\u001B[0;31m             \u001B[0mdf\u001B[0m\u001B[0;34m.\u001B[0m\u001B[0mrepartition\u001B[0m\u001B[0;34m(\u001B[0m\u001B[0;34m\"pick_day\"\u001B[0m\u001B[0;34m,\u001B[0m \u001B[0;34m\"pick_hour\"\u001B[0m\u001B[0;34m)\u001B[0m\u001B[0;31m\\\u001B[0m\u001B[0;34m\u001B[0m\u001B[0;34m\u001B[0m\u001B[0m\n\u001B[0m\u001B[1;32m     31\u001B[0m                 \u001B[0;34m.\u001B[0m\u001B[0mwrite\u001B[0m\u001B[0;34m.\u001B[0m\u001B[0mmode\u001B[0m\u001B[0;34m(\u001B[0m\u001B[0;34m\"overwrite\"\u001B[0m\u001B[0;34m)\u001B[0m\u001B[0;31m\\\u001B[0m\u001B[0;34m\u001B[0m\u001B[0;34m\u001B[0m\u001B[0m\n\u001B[1;32m     32\u001B[0m                 \u001B[0;34m.\u001B[0m\u001B[0moption\u001B[0m\u001B[0;34m(\u001B[0m\u001B[0;34m\"compression\"\u001B[0m\u001B[0;34m,\u001B[0m \u001B[0;34m\"gzip\"\u001B[0m\u001B[0;34m)\u001B[0m\u001B[0;31m\\\u001B[0m\u001B[0;34m\u001B[0m\u001B[0;34m\u001B[0m\u001B[0m\n",
      "\u001B[0;32m~/Library/Python/3.8/lib/python/site-packages/pyspark/sql/readwriter.py\u001B[0m in \u001B[0;36mparquet\u001B[0;34m(self, path, mode, partitionBy, compression)\u001B[0m\n\u001B[1;32m    934\u001B[0m             \u001B[0mself\u001B[0m\u001B[0;34m.\u001B[0m\u001B[0mpartitionBy\u001B[0m\u001B[0;34m(\u001B[0m\u001B[0mpartitionBy\u001B[0m\u001B[0;34m)\u001B[0m\u001B[0;34m\u001B[0m\u001B[0;34m\u001B[0m\u001B[0m\n\u001B[1;32m    935\u001B[0m         \u001B[0mself\u001B[0m\u001B[0;34m.\u001B[0m\u001B[0m_set_opts\u001B[0m\u001B[0;34m(\u001B[0m\u001B[0mcompression\u001B[0m\u001B[0;34m=\u001B[0m\u001B[0mcompression\u001B[0m\u001B[0;34m)\u001B[0m\u001B[0;34m\u001B[0m\u001B[0;34m\u001B[0m\u001B[0m\n\u001B[0;32m--> 936\u001B[0;31m         \u001B[0mself\u001B[0m\u001B[0;34m.\u001B[0m\u001B[0m_jwrite\u001B[0m\u001B[0;34m.\u001B[0m\u001B[0mparquet\u001B[0m\u001B[0;34m(\u001B[0m\u001B[0mpath\u001B[0m\u001B[0;34m)\u001B[0m\u001B[0;34m\u001B[0m\u001B[0;34m\u001B[0m\u001B[0m\n\u001B[0m\u001B[1;32m    937\u001B[0m \u001B[0;34m\u001B[0m\u001B[0m\n\u001B[1;32m    938\u001B[0m     \u001B[0;34m@\u001B[0m\u001B[0msince\u001B[0m\u001B[0;34m(\u001B[0m\u001B[0;36m1.6\u001B[0m\u001B[0;34m)\u001B[0m\u001B[0;34m\u001B[0m\u001B[0;34m\u001B[0m\u001B[0m\n",
      "\u001B[0;32m~/Library/Python/3.8/lib/python/site-packages/py4j/java_gateway.py\u001B[0m in \u001B[0;36m__call__\u001B[0;34m(self, *args)\u001B[0m\n\u001B[1;32m   1301\u001B[0m             \u001B[0mproto\u001B[0m\u001B[0;34m.\u001B[0m\u001B[0mEND_COMMAND_PART\u001B[0m\u001B[0;34m\u001B[0m\u001B[0;34m\u001B[0m\u001B[0m\n\u001B[1;32m   1302\u001B[0m \u001B[0;34m\u001B[0m\u001B[0m\n\u001B[0;32m-> 1303\u001B[0;31m         \u001B[0manswer\u001B[0m \u001B[0;34m=\u001B[0m \u001B[0mself\u001B[0m\u001B[0;34m.\u001B[0m\u001B[0mgateway_client\u001B[0m\u001B[0;34m.\u001B[0m\u001B[0msend_command\u001B[0m\u001B[0;34m(\u001B[0m\u001B[0mcommand\u001B[0m\u001B[0;34m)\u001B[0m\u001B[0;34m\u001B[0m\u001B[0;34m\u001B[0m\u001B[0m\n\u001B[0m\u001B[1;32m   1304\u001B[0m         return_value = get_return_value(\n\u001B[1;32m   1305\u001B[0m             answer, self.gateway_client, self.target_id, self.name)\n",
      "\u001B[0;32m~/Library/Python/3.8/lib/python/site-packages/py4j/java_gateway.py\u001B[0m in \u001B[0;36msend_command\u001B[0;34m(self, command, retry, binary)\u001B[0m\n\u001B[1;32m   1031\u001B[0m         \u001B[0mconnection\u001B[0m \u001B[0;34m=\u001B[0m \u001B[0mself\u001B[0m\u001B[0;34m.\u001B[0m\u001B[0m_get_connection\u001B[0m\u001B[0;34m(\u001B[0m\u001B[0;34m)\u001B[0m\u001B[0;34m\u001B[0m\u001B[0;34m\u001B[0m\u001B[0m\n\u001B[1;32m   1032\u001B[0m         \u001B[0;32mtry\u001B[0m\u001B[0;34m:\u001B[0m\u001B[0;34m\u001B[0m\u001B[0;34m\u001B[0m\u001B[0m\n\u001B[0;32m-> 1033\u001B[0;31m             \u001B[0mresponse\u001B[0m \u001B[0;34m=\u001B[0m \u001B[0mconnection\u001B[0m\u001B[0;34m.\u001B[0m\u001B[0msend_command\u001B[0m\u001B[0;34m(\u001B[0m\u001B[0mcommand\u001B[0m\u001B[0;34m)\u001B[0m\u001B[0;34m\u001B[0m\u001B[0;34m\u001B[0m\u001B[0m\n\u001B[0m\u001B[1;32m   1034\u001B[0m             \u001B[0;32mif\u001B[0m \u001B[0mbinary\u001B[0m\u001B[0;34m:\u001B[0m\u001B[0;34m\u001B[0m\u001B[0;34m\u001B[0m\u001B[0m\n\u001B[1;32m   1035\u001B[0m                 \u001B[0;32mreturn\u001B[0m \u001B[0mresponse\u001B[0m\u001B[0;34m,\u001B[0m \u001B[0mself\u001B[0m\u001B[0;34m.\u001B[0m\u001B[0m_create_connection_guard\u001B[0m\u001B[0;34m(\u001B[0m\u001B[0mconnection\u001B[0m\u001B[0;34m)\u001B[0m\u001B[0;34m\u001B[0m\u001B[0;34m\u001B[0m\u001B[0m\n",
      "\u001B[0;32m~/Library/Python/3.8/lib/python/site-packages/py4j/java_gateway.py\u001B[0m in \u001B[0;36msend_command\u001B[0;34m(self, command)\u001B[0m\n\u001B[1;32m   1198\u001B[0m \u001B[0;34m\u001B[0m\u001B[0m\n\u001B[1;32m   1199\u001B[0m         \u001B[0;32mtry\u001B[0m\u001B[0;34m:\u001B[0m\u001B[0;34m\u001B[0m\u001B[0;34m\u001B[0m\u001B[0m\n\u001B[0;32m-> 1200\u001B[0;31m             \u001B[0manswer\u001B[0m \u001B[0;34m=\u001B[0m \u001B[0msmart_decode\u001B[0m\u001B[0;34m(\u001B[0m\u001B[0mself\u001B[0m\u001B[0;34m.\u001B[0m\u001B[0mstream\u001B[0m\u001B[0;34m.\u001B[0m\u001B[0mreadline\u001B[0m\u001B[0;34m(\u001B[0m\u001B[0;34m)\u001B[0m\u001B[0;34m[\u001B[0m\u001B[0;34m:\u001B[0m\u001B[0;34m-\u001B[0m\u001B[0;36m1\u001B[0m\u001B[0;34m]\u001B[0m\u001B[0;34m)\u001B[0m\u001B[0;34m\u001B[0m\u001B[0;34m\u001B[0m\u001B[0m\n\u001B[0m\u001B[1;32m   1201\u001B[0m             \u001B[0mlogger\u001B[0m\u001B[0;34m.\u001B[0m\u001B[0mdebug\u001B[0m\u001B[0;34m(\u001B[0m\u001B[0;34m\"Answer received: {0}\"\u001B[0m\u001B[0;34m.\u001B[0m\u001B[0mformat\u001B[0m\u001B[0;34m(\u001B[0m\u001B[0manswer\u001B[0m\u001B[0;34m)\u001B[0m\u001B[0;34m)\u001B[0m\u001B[0;34m\u001B[0m\u001B[0;34m\u001B[0m\u001B[0m\n\u001B[1;32m   1202\u001B[0m             \u001B[0;32mif\u001B[0m \u001B[0manswer\u001B[0m\u001B[0;34m.\u001B[0m\u001B[0mstartswith\u001B[0m\u001B[0;34m(\u001B[0m\u001B[0mproto\u001B[0m\u001B[0;34m.\u001B[0m\u001B[0mRETURN_MESSAGE\u001B[0m\u001B[0;34m)\u001B[0m\u001B[0;34m:\u001B[0m\u001B[0;34m\u001B[0m\u001B[0;34m\u001B[0m\u001B[0m\n",
      "\u001B[0;32m/usr/local/Cellar/python@3.8/3.8.5/Frameworks/Python.framework/Versions/3.8/lib/python3.8/socket.py\u001B[0m in \u001B[0;36mreadinto\u001B[0;34m(self, b)\u001B[0m\n\u001B[1;32m    667\u001B[0m         \u001B[0;32mwhile\u001B[0m \u001B[0;32mTrue\u001B[0m\u001B[0;34m:\u001B[0m\u001B[0;34m\u001B[0m\u001B[0;34m\u001B[0m\u001B[0m\n\u001B[1;32m    668\u001B[0m             \u001B[0;32mtry\u001B[0m\u001B[0;34m:\u001B[0m\u001B[0;34m\u001B[0m\u001B[0;34m\u001B[0m\u001B[0m\n\u001B[0;32m--> 669\u001B[0;31m                 \u001B[0;32mreturn\u001B[0m \u001B[0mself\u001B[0m\u001B[0;34m.\u001B[0m\u001B[0m_sock\u001B[0m\u001B[0;34m.\u001B[0m\u001B[0mrecv_into\u001B[0m\u001B[0;34m(\u001B[0m\u001B[0mb\u001B[0m\u001B[0;34m)\u001B[0m\u001B[0;34m\u001B[0m\u001B[0;34m\u001B[0m\u001B[0m\n\u001B[0m\u001B[1;32m    670\u001B[0m             \u001B[0;32mexcept\u001B[0m \u001B[0mtimeout\u001B[0m\u001B[0;34m:\u001B[0m\u001B[0;34m\u001B[0m\u001B[0;34m\u001B[0m\u001B[0m\n\u001B[1;32m    671\u001B[0m                 \u001B[0mself\u001B[0m\u001B[0;34m.\u001B[0m\u001B[0m_timeout_occurred\u001B[0m \u001B[0;34m=\u001B[0m \u001B[0;32mTrue\u001B[0m\u001B[0;34m\u001B[0m\u001B[0;34m\u001B[0m\u001B[0m\n",
      "\u001B[0;31mKeyboardInterrupt\u001B[0m: "
     ]
    }
   ],
   "source": [
    "process()"
   ]
  },
  {
   "cell_type": "code",
   "execution_count": null,
   "metadata": {
    "pycharm": {
     "name": "#%%\n"
    }
   },
   "outputs": [],
   "source": [
    "# root-foil-raw\n",
    "#  |-- medallion: integer (nullable = true)\n",
    "#  |-- hack_license: integer (nullable = true)\n",
    "#  |-- pickup_datetime: timestamp (nullable = true)\n",
    "#  |-- dropoff_latitude: double (nullable = true)\n",
    "#  |-- dropoff_longitude: double (nullable = true)\n",
    "#  |-- pickup_latitude: double (nullable = true)\n",
    "#  |-- pickup_longitude: double (nullable = true)\n",
    "#  |-- trip_distance: double (nullable = true)\n",
    "#  |-- trip_time_in_secs: integer (nullable = true)\n",
    "#  |-- dropoff_datetime: timestamp (nullable = true)\n",
    "#  |-- rate_code: short (nullable = true)\n",
    "#  |-- tip_amount: double (nullable = true)\n",
    "#  |-- total_amount: double (nullable = true)\n",
    "\n",
    "# root-yellow-raw\n",
    "#  |-- vendor_id: double (nullable = true)\n",
    "#  |-- pickup_datetime: timestamp (nullable = true)\n",
    "#  |-- dropoff_datetime: timestamp (nullable = true)\n",
    "#  |-- passenger_count: double (nullable = true)\n",
    "#  |-- trip_distance: double (nullable = true)\n",
    "#  |-- pickup_longitude: double (nullable = true)\n",
    "#  |-- pickup_latitude: double (nullable = true)\n",
    "#  |-- rate_code: double (nullable = true)\n",
    "#  |-- store_and_forward: double (nullable = true)\n",
    "#  |-- dropoff_longitude: double (nullable = true)\n",
    "#  |-- dropoff_latitude: double (nullable = true)\n",
    "#  |-- payment_type: double (nullable = true)\n",
    "#  |-- fare_amount: double (nullable = true)\n",
    "#  |-- surcharge: double (nullable = true)\n",
    "#  |-- mta_tax: double (nullable = true)\n",
    "#  |-- tip_amount: double (nullable = true)\n",
    "#  |-- tolls_amount: double (nullable = true)\n",
    "#  |-- total_amount: double (nullable = true)\n",
    "\n",
    "# root\n",
    "#  |-- pickup_datetime: timestamp (nullable = true)\n",
    "#  |-- dropoff_datetime: timestamp (nullable = true)\n",
    "#  |-- trip_distance: double (nullable = true)\n",
    "#  |-- pickup_longitude: double (nullable = true)\n",
    "#  |-- pickup_latitude: double (nullable = true)\n",
    "#  |-- rate_code: double (nullable = true)\n",
    "#  |-- dropoff_longitude: double (nullable = true)\n",
    "#  |-- dropoff_latitude: double (nullable = true)\n",
    "#  |-- tip_amount: double (nullable = true)\n",
    "#  |-- total_amount: double (nullable = true)\n",
    "#  |-- duration_second: integer (nullable = true)\n",
    "#  |-- drop_day: integer (nullable = true)\n",
    "#  |-- drop_month: integer (nullable = true)\n",
    "#  |-- drop_hour: integer (nullable = true)\n",
    "#  |-- drop_min: integer (nullable = true)\n",
    "#  |-- week_day: integer (nullable = true)\n",
    "#  |-- pick_month: integer (nullable = true)\n",
    "#  |-- pick_min: integer (nullable = true)\n",
    "#  |-- season: integer (nullable = true)\n",
    "#  |-- pick_day: integer (nullable = true)\n",
    "#  |-- pick_hour: integer (nullable = true)\n",
    "#\n",
    "# root\n",
    "#  |-- medallion: integer (nullable = true)\n",
    "#  |-- hack_license: integer (nullable = true)\n",
    "#  |-- pickup_datetime: timestamp (nullable = true)\n",
    "#  |-- dropoff_latitude: double (nullable = true)\n",
    "#  |-- dropoff_longitude: double (nullable = true)\n",
    "#  |-- pickup_latitude: double (nullable = true)\n",
    "#  |-- pickup_longitude: double (nullable = true)\n",
    "#  |-- trip_distance: double (nullable = true)\n",
    "#  |-- dropoff_datetime: timestamp (nullable = true)\n",
    "#  |-- rate_code: short (nullable = true)\n",
    "#  |-- tip_amount: double (nullable = true)\n",
    "#  |-- total_amount: double (nullable = true)\n",
    "#  |-- duration_second: integer (nullable = true)\n",
    "#  |-- drop_day: integer (nullable = true)\n",
    "#  |-- drop_month: integer (nullable = true)\n",
    "#  |-- drop_hour: integer (nullable = true)\n",
    "#  |-- drop_min: integer (nullable = true)\n",
    "#  |-- week_day: integer (nullable = true)\n",
    "#  |-- pick_month: integer (nullable = true)\n",
    "#  |-- pick_min: integer (nullable = true)\n",
    "#  |-- season: integer (nullable = true)\n",
    "#  |-- pick_day: integer (nullable = true)\n",
    "#  |-- pick_hour: integer (nullable = true)"
   ]
  }
 ],
 "metadata": {
  "kernelspec": {
   "display_name": "Python 3",
   "language": "python",
   "name": "python3"
  },
  "language_info": {
   "codemirror_mode": {
    "name": "ipython",
    "version": 3
   },
   "file_extension": ".py",
   "mimetype": "text/x-python",
   "name": "python",
   "nbconvert_exporter": "python",
   "pygments_lexer": "ipython3",
   "version": "3.8.5"
  }
 },
 "nbformat": 4,
 "nbformat_minor": 1
}